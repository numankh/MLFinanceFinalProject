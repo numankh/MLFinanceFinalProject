{
 "cells": [
  {
   "cell_type": "markdown",
   "id": "1c3d512f",
   "metadata": {},
   "source": [
    "# Final Project"
   ]
  },
  {
   "cell_type": "markdown",
   "id": "576833bf",
   "metadata": {},
   "source": [
    "## Notes"
   ]
  },
  {
   "cell_type": "code",
   "execution_count": 1,
   "id": "e3698336",
   "metadata": {},
   "outputs": [
    {
     "data": {
      "text/plain": [
       "'\\nUsing the following machine learning models for making predictions for the following portfolio optimization models:\\n- Mean-variance optimization (chapter 7 of Bodie, Investment book)\\n- Index model (chapter 8 of Bodie, Investment book)\\n- Capital asset pricing model (chapter 9 of Bodie, Investment book)\\n- Arbitrage pricing theory and multifactor model (chapter 10 of Bodie,\\nInvestment book)\\n- Equity valuation model (chapter 18 of Bodie, Investment book)\\n- Black Litterman model (chapter 24 of Bodie, Investment book)\\n- Algorithmic trading (this could be restricted to the last month)\\n'"
      ]
     },
     "execution_count": 1,
     "metadata": {},
     "output_type": "execute_result"
    }
   ],
   "source": [
    "'''\n",
    "Using the following machine learning models for making predictions for the following portfolio optimization models:\n",
    "- Mean-variance optimization (chapter 7 of Bodie, Investment book)\n",
    "- Index model (chapter 8 of Bodie, Investment book)\n",
    "- Capital asset pricing model (chapter 9 of Bodie, Investment book)\n",
    "- Arbitrage pricing theory and multifactor model (chapter 10 of Bodie,\n",
    "Investment book)\n",
    "- Equity valuation model (chapter 18 of Bodie, Investment book)\n",
    "- Black Litterman model (chapter 24 of Bodie, Investment book)\n",
    "- Algorithmic trading (this could be restricted to the last month)\n",
    "'''"
   ]
  },
  {
   "cell_type": "markdown",
   "id": "5455474e",
   "metadata": {},
   "source": [
    "## Load Data"
   ]
  },
  {
   "cell_type": "code",
   "execution_count": 2,
   "id": "40e998cb",
   "metadata": {},
   "outputs": [
    {
     "name": "stdout",
     "output_type": "stream",
     "text": [
      "[*********************100%***********************]  10 of 10 completed\n"
     ]
    },
    {
     "data": {
      "text/html": [
       "<div>\n",
       "<style scoped>\n",
       "    .dataframe tbody tr th:only-of-type {\n",
       "        vertical-align: middle;\n",
       "    }\n",
       "\n",
       "    .dataframe tbody tr th {\n",
       "        vertical-align: top;\n",
       "    }\n",
       "\n",
       "    .dataframe thead th {\n",
       "        text-align: right;\n",
       "    }\n",
       "</style>\n",
       "<table border=\"1\" class=\"dataframe\">\n",
       "  <thead>\n",
       "    <tr style=\"text-align: right;\">\n",
       "      <th></th>\n",
       "      <th>AAPL</th>\n",
       "      <th>AMZN</th>\n",
       "      <th>BRK-B</th>\n",
       "      <th>GOOGL</th>\n",
       "      <th>META</th>\n",
       "      <th>MSFT</th>\n",
       "      <th>NVDA</th>\n",
       "      <th>TSLA</th>\n",
       "      <th>UNH</th>\n",
       "      <th>XOM</th>\n",
       "    </tr>\n",
       "    <tr>\n",
       "      <th>Date</th>\n",
       "      <th></th>\n",
       "      <th></th>\n",
       "      <th></th>\n",
       "      <th></th>\n",
       "      <th></th>\n",
       "      <th></th>\n",
       "      <th></th>\n",
       "      <th></th>\n",
       "      <th></th>\n",
       "      <th></th>\n",
       "    </tr>\n",
       "  </thead>\n",
       "  <tbody>\n",
       "    <tr>\n",
       "      <th>2023-06-26</th>\n",
       "      <td>185.270004</td>\n",
       "      <td>127.330002</td>\n",
       "      <td>334.119995</td>\n",
       "      <td>118.339996</td>\n",
       "      <td>278.470001</td>\n",
       "      <td>328.600006</td>\n",
       "      <td>406.320007</td>\n",
       "      <td>241.050003</td>\n",
       "      <td>479.059998</td>\n",
       "      <td>104.290001</td>\n",
       "    </tr>\n",
       "    <tr>\n",
       "      <th>2023-06-27</th>\n",
       "      <td>188.059998</td>\n",
       "      <td>129.179993</td>\n",
       "      <td>335.339996</td>\n",
       "      <td>118.330002</td>\n",
       "      <td>287.049988</td>\n",
       "      <td>334.570007</td>\n",
       "      <td>418.760010</td>\n",
       "      <td>250.210007</td>\n",
       "      <td>482.559998</td>\n",
       "      <td>104.550003</td>\n",
       "    </tr>\n",
       "    <tr>\n",
       "      <th>2023-06-28</th>\n",
       "      <td>189.250000</td>\n",
       "      <td>129.039993</td>\n",
       "      <td>334.149994</td>\n",
       "      <td>120.180000</td>\n",
       "      <td>285.290009</td>\n",
       "      <td>335.850006</td>\n",
       "      <td>411.170013</td>\n",
       "      <td>256.239990</td>\n",
       "      <td>474.450012</td>\n",
       "      <td>105.400002</td>\n",
       "    </tr>\n",
       "    <tr>\n",
       "      <th>2023-06-29</th>\n",
       "      <td>189.589996</td>\n",
       "      <td>127.900002</td>\n",
       "      <td>336.910004</td>\n",
       "      <td>119.099998</td>\n",
       "      <td>281.529999</td>\n",
       "      <td>335.049988</td>\n",
       "      <td>408.220001</td>\n",
       "      <td>257.500000</td>\n",
       "      <td>476.440002</td>\n",
       "      <td>106.699997</td>\n",
       "    </tr>\n",
       "    <tr>\n",
       "      <th>2023-06-30</th>\n",
       "      <td>193.970001</td>\n",
       "      <td>130.360001</td>\n",
       "      <td>341.000000</td>\n",
       "      <td>119.699997</td>\n",
       "      <td>286.980011</td>\n",
       "      <td>340.540009</td>\n",
       "      <td>423.019989</td>\n",
       "      <td>261.769989</td>\n",
       "      <td>480.640015</td>\n",
       "      <td>107.250000</td>\n",
       "    </tr>\n",
       "  </tbody>\n",
       "</table>\n",
       "</div>"
      ],
      "text/plain": [
       "                  AAPL        AMZN       BRK-B       GOOGL        META  \\\n",
       "Date                                                                     \n",
       "2023-06-26  185.270004  127.330002  334.119995  118.339996  278.470001   \n",
       "2023-06-27  188.059998  129.179993  335.339996  118.330002  287.049988   \n",
       "2023-06-28  189.250000  129.039993  334.149994  120.180000  285.290009   \n",
       "2023-06-29  189.589996  127.900002  336.910004  119.099998  281.529999   \n",
       "2023-06-30  193.970001  130.360001  341.000000  119.699997  286.980011   \n",
       "\n",
       "                  MSFT        NVDA        TSLA         UNH         XOM  \n",
       "Date                                                                    \n",
       "2023-06-26  328.600006  406.320007  241.050003  479.059998  104.290001  \n",
       "2023-06-27  334.570007  418.760010  250.210007  482.559998  104.550003  \n",
       "2023-06-28  335.850006  411.170013  256.239990  474.450012  105.400002  \n",
       "2023-06-29  335.049988  408.220001  257.500000  476.440002  106.699997  \n",
       "2023-06-30  340.540009  423.019989  261.769989  480.640015  107.250000  "
      ]
     },
     "execution_count": 2,
     "metadata": {},
     "output_type": "execute_result"
    }
   ],
   "source": [
    "import yfinance as yf\n",
    "from pypfopt import plotting\n",
    "import numpy as np\n",
    "import pandas as pd\n",
    "from sklearn.linear_model import LinearRegression\n",
    "from sklearn.neural_network import MLPRegressor\n",
    "from sklearn.ensemble import RandomForestRegressor\n",
    "from pypfopt import expected_returns, risk_models, EfficientFrontier\n",
    "\n",
    "tickers = [\"AAPL\", \"AMZN\", \"BRK-B\", \"GOOGL\", \"META\", \"MSFT\", \"NVDA\", \"TSLA\", \"UNH\", \"XOM\"]\n",
    "portfolio_data = yf.download(tickers, period=\"5y\")\n",
    "portfolio_data = portfolio_data[\"Adj Close\"]\n",
    "portfolio_data.tail()"
   ]
  },
  {
   "cell_type": "code",
   "execution_count": 3,
   "id": "937b3971",
   "metadata": {},
   "outputs": [
    {
     "name": "stdout",
     "output_type": "stream",
     "text": [
      "[*********************100%***********************]  1 of 1 completed\n"
     ]
    },
    {
     "data": {
      "text/plain": [
       "Date\n",
       "2018-07-02    2726.709961\n",
       "2018-07-03    2713.219971\n",
       "2018-07-05    2736.610107\n",
       "2018-07-06    2759.820068\n",
       "2018-07-09    2784.169922\n",
       "                 ...     \n",
       "2023-06-26    4328.819824\n",
       "2023-06-27    4378.410156\n",
       "2023-06-28    4376.859863\n",
       "2023-06-29    4396.439941\n",
       "2023-06-30    4450.379883\n",
       "Name: Adj Close, Length: 1258, dtype: float64"
      ]
     },
     "execution_count": 3,
     "metadata": {},
     "output_type": "execute_result"
    }
   ],
   "source": [
    "market_index_ticker = \"^GSPC\"  # S&P 500 index\n",
    "market_index_data = yf.download(market_index_ticker, period=\"5y\")\n",
    "market_index_data = market_index_data[\"Adj Close\"]\n",
    "market_index_data"
   ]
  },
  {
   "cell_type": "markdown",
   "id": "12c777d4",
   "metadata": {},
   "source": [
    "## Mean Variance Optimization"
   ]
  },
  {
   "cell_type": "markdown",
   "id": "0515cab1",
   "metadata": {},
   "source": [
    "### Random Forest "
   ]
  },
  {
   "cell_type": "code",
   "execution_count": null,
   "id": "88edd1a8",
   "metadata": {},
   "outputs": [],
   "source": [
    "future_prices = {}\n",
    "for ticker in tickers:\n",
    "    data = portfolio_data[ticker].tolist()\n",
    "    # Dependent variable - 10 consecutive days of stock prices\n",
    "    dev_x = [data[i:i+10] for i in range(len(data)-20)]\n",
    "    \n",
    "    # Independent variable - stock price 10th day into the future\n",
    "    dev_y = [data[i+10] for i in range(10,len(data)-10)]\n",
    "    \n",
    "    test = [data[i:i+10] for i in range(len(data)-20,len(data)-10)]\n",
    "    \n",
    "    reg = RandomForestRegressor()\n",
    "    reg.fit(dev_x,dev_y)\n",
    "    \n",
    "    # Predict stock price for 10 future days\n",
    "    pred = reg.predict(test)\n",
    "    future_prices[ticker] = pred\n",
    "\n",
    "future_prices = pd.DataFrame(future_prices)\n",
    "# Construct covariance matrix of future stock prices\n",
    "S = risk_models.CovarianceShrinkage(future_prices).ledoit_wolf()\n",
    "\n",
    "# Use capm to find expected returns on future prices\n",
    "mu = expected_returns.capm_return(future_prices)\n",
    "print(mu)\n",
    "\n",
    "# Do mean variance optimization using efficient frontier\n",
    "ef = EfficientFrontier(mu, S)\n",
    "ef.min_volatility()\n",
    "weights = ef.clean_weights()\n",
    "print(weights)\n",
    "# weights = ef.max_sharpe(risk_free_rate=0.02)\n",
    "# cleaned_weights = ef.clean_weights()\n",
    "# print(cleaned_weights)\n",
    "\n",
    "ret, volatility, sharpe_ratio = ef.portfolio_performance()\n",
    "print(\"Expected annual return:\", ret)\n",
    "print(\"Annual volatility:\", volatility)\n",
    "print(\"Sharpe ratio:\", sharpe_ratio)\n"
   ]
  },
  {
   "cell_type": "markdown",
   "id": "eefd90b9",
   "metadata": {},
   "source": [
    "### SVM"
   ]
  },
  {
   "cell_type": "code",
   "execution_count": null,
   "id": "13084abd",
   "metadata": {},
   "outputs": [],
   "source": [
    "future_prices = {}\n",
    "for ticker in tickers:\n",
    "    data = portfolio_data[ticker].tolist()\n",
    "    dev_x = [data[i:i+10] for i in range(len(data)-20)]\n",
    "    dev_y = [data[i+10] for i in range(10, len(data)-10)]\n",
    "    test = [data[i:i+10] for i in range(len(data)-20, len(data)-10)]\n",
    "    \n",
    "    reg = SVR()\n",
    "    reg.fit(dev_x, dev_y)\n",
    "    \n",
    "    pred = reg.predict(test)\n",
    "    future_prices[ticker] = pred\n",
    "\n",
    "future_prices = pd.DataFrame(future_prices)\n",
    "\n",
    "S = risk_models.CovarianceShrinkage(future_prices).ledoit_wolf()\n",
    "mu = expected_returns.capm_return(future_prices)\n",
    "print(mu)\n",
    "\n",
    "ef = EfficientFrontier(mu, S)\n",
    "ef.min_volatility()\n",
    "weights = ef.clean_weights()\n",
    "print(weights)\n",
    "\n",
    "\n",
    "ret, volatility, sharpe_ratio = ef.portfolio_performance()\n",
    "print(\"Expected annual return:\", ret)\n",
    "print(\"Annual volatility:\", volatility)\n",
    "print(\"Sharpe ratio:\", sharpe_ratio)\n"
   ]
  },
  {
   "cell_type": "markdown",
   "id": "894acc7c",
   "metadata": {},
   "source": [
    "### Neural Network"
   ]
  },
  {
   "cell_type": "code",
   "execution_count": null,
   "id": "4fbad704",
   "metadata": {},
   "outputs": [],
   "source": [
    "future_prices = {}\n",
    "for ticker in tickers:\n",
    "    data = portfolio_data[ticker].tolist()\n",
    "    dev_x = [data[i:i+10] for i in range(len(data)-20)]\n",
    "    dev_y = [data[i+10] for i in range(10, len(data)-10)]\n",
    "    test = [data[i:i+10] for i in range(len(data)-20, len(data)-10)]\n",
    "    \n",
    "    reg = MLPRegressor(hidden_layer_sizes=(100,100), random_state=42)  # You can adjust the hidden_layer_sizes and other parameters as needed\n",
    "    reg.fit(dev_x, dev_y)\n",
    "    \n",
    "    pred = reg.predict(test)\n",
    "    future_prices[ticker] = pred\n",
    "\n",
    "future_prices = pd.DataFrame(future_prices)\n",
    "\n",
    "S = risk_models.CovarianceShrinkage(future_prices).ledoit_wolf()\n",
    "mu = expected_returns.capm_return(future_prices)\n",
    "print(mu)\n",
    "\n",
    "ef = EfficientFrontier(mu, S)\n",
    "ef.min_volatility()\n",
    "weights = ef.clean_weights()\n",
    "print(weights)\n",
    "\n",
    "ret, volatility, sharpe_ratio = ef.portfolio_performance()\n",
    "print(\"Expected annual return:\", ret)\n",
    "print(\"Annual volatility:\", volatility)\n",
    "print(\"Sharpe ratio:\", sharpe_ratio)\n",
    "\n"
   ]
  },
  {
   "cell_type": "markdown",
   "id": "69e43441",
   "metadata": {},
   "source": [
    "## Index model"
   ]
  },
  {
   "cell_type": "markdown",
   "id": "bcafddfa",
   "metadata": {},
   "source": [
    "### Random Forest for predicting market index values"
   ]
  },
  {
   "cell_type": "code",
   "execution_count": 11,
   "id": "3561bc0d",
   "metadata": {},
   "outputs": [
    {
     "data": {
      "text/plain": [
       "array([-0.00118954,  0.00018475,  0.00040524,  0.00160235,  0.00235952,\n",
       "        0.00090033,  0.00140159, -0.00033955, -0.0006818 , -0.00048814])"
      ]
     },
     "execution_count": 11,
     "metadata": {},
     "output_type": "execute_result"
    }
   ],
   "source": [
    "# Returns of stocks and market\n",
    "returns = {\"MARKET\": ((market_index_data / market_index_data.shift(1)) - 1).dropna().tolist()}\n",
    "for ticker in tickers:\n",
    "    returns[ticker] = ((portfolio_data[ticker] / portfolio_data[ticker].shift(1))-1).dropna().tolist()\n",
    "    \n",
    "# Future marker returns prediction\n",
    "market_x = [returns[\"MARKET\"][i:i+10] for i in range(len(returns[\"MARKET\"])-20)]\n",
    "market_y = [returns[\"MARKET\"][i+10] for i in range(10, len(returns[\"MARKET\"])-10)]\n",
    "\n",
    "market_test = [returns[\"MARKET\"][i:i+10]\n",
    "              for i in range(len(returns[\"MARKET\"])-20, len(returns[\"MARKET\"])-10)]\n",
    "\n",
    "reg = RandomForestRegressor()\n",
    "reg.fit(market_x, market_y)\n",
    "market_future = reg.predict(market_test)\n",
    "market_future"
   ]
  },
  {
   "cell_type": "code",
   "execution_count": 12,
   "id": "154cde3e",
   "metadata": {},
   "outputs": [],
   "source": [
    "# For each stock in the portfolio,\n",
    "# Fit a single index model regression on market return and stock return\n",
    "# Determine alpha, beta, variance of the residuals\n",
    "\n",
    "beta = {}\n",
    "alpha = {}\n",
    "residual_variance = {}\n",
    "\n",
    "for ticker in tickers:\n",
    "    single_index_reg = LinearRegression()\n",
    "    single_index_reg.fit(np.array(returns[\"MARKET\"]).reshape(-1, 1),y=returns[ticker])\n",
    "    stock_future = single_index_reg.predict(np.array(market_future).reshape(-1, 1))\n",
    "\n",
    "    beta[ticker] = single_index_reg.coef_[0]\n",
    "    alpha[ticker] = single_index_reg.intercept_\n",
    "\n",
    "    y_pred = single_index_reg.predict(np.array(returns[\"MARKET\"]).reshape(-1, 1))\n",
    "    residuals = returns[ticker] - y_pred\n",
    "    residual_variance[ticker] = np.var(residuals)"
   ]
  },
  {
   "cell_type": "code",
   "execution_count": 13,
   "id": "853bce94",
   "metadata": {},
   "outputs": [
    {
     "name": "stdout",
     "output_type": "stream",
     "text": [
      "Weights: {'AAPL': 5.122452599826317, 'AMZN': 0.19608491512600934, 'BRK-B': 2.4339195401637594, 'GOOGL': 1.4863579468455903, 'META': 0.17266094642367638, 'MSFT': 5.505126547305852, 'NVDA': 2.240093064225395, 'TSLA': 1.5722516686676098, 'UNH': 1.6361742826957755, 'XOM': 0.7010626883133609}\n",
      "\n",
      "Scaled weights: {'AAPL': 0.24315996439095022, 'AMZN': 0.009308041421654069, 'BRK-B': 0.11553680140187622, 'GOOGL': 0.07055658171232938, 'META': 0.008196118707962753, 'MSFT': 0.26132528298181884, 'NVDA': 0.10633596682728318, 'TSLA': 0.07463390872173044, 'UNH': 0.07766827951344693, 'XOM': 0.03327905432094788}\n",
      "\n",
      "Alpha of the active portfolio: 0.0007219367631504806\n",
      "\n",
      "Residual variance of the active portfolio: 3.426993499679057e-05\n",
      "\n",
      "Initial position of the active portfolio: 4.288473212060074\n",
      "\n",
      "Beta of the active portfolio: 1.2086189451637475\n",
      "\n",
      "Adjusted position of the active portfolio: 3.393816454197114\n",
      "------------------------------\n",
      "Final Weights:\n",
      "Weight Market S&P: -2.393816454197114\n",
      "Weights: {'AAPL': 0.8252402881519911, 'AMZN': 0.031589784133157876, 'BRK-B': 0.39211069766299167, 'GOOGL': 0.23945608796720663, 'META': 0.027816122531636782, 'MSFT': 0.8868900452814138, 'NVDA': 0.36088475389139213, 'TSLA': 0.25329378746085424, 'UNH': 0.2635918849819168, 'XOM': 0.11294300213455248}\n",
      "------------------------------\n",
      "Risk premium of portfolio:  0.09809892775589231\n",
      "Variance of portfolio:  0.03365209148669729\n",
      "Sharpe ratio: 0.5347591570192075\n"
     ]
    }
   ],
   "source": [
    "# Using Treynor Black model for portfolio optimization\n",
    "\n",
    "# STEP 1:\n",
    "# Compute the initial position of each security:\n",
    "weights = {ticker: alpha[ticker] / residual_variance[ticker] for ticker in tickers}\n",
    "print(f\"Weights: {weights}\\n\")\n",
    "\n",
    "# STEP 2:\n",
    "# Scale the initial positions:\n",
    "total_weight = sum(weights.values())\n",
    "weights = {ticker: weight / total_weight for ticker, weight in weights.items()}\n",
    "print(f\"Scaled weights: {weights}\\n\")\n",
    "\n",
    "# STEP 3:\n",
    "# Compute the alpha of the active portfolio:\n",
    "alpha_portfolio = sum(weights[ticker] * alpha[ticker] for ticker in tickers)\n",
    "print(f\"Alpha of the active portfolio: {alpha_portfolio}\\n\")\n",
    "\n",
    "# STEP 4:\n",
    "# Compute the residual variance of the active portfolio:\n",
    "residual_variance_portfolio = sum((weights[ticker] ** 2) * residual_variance[ticker] for ticker in tickers)\n",
    "print(f\"Residual variance of the active portfolio: {residual_variance_portfolio}\\n\")\n",
    "\n",
    "# STEP 5:\n",
    "# Compute the initial position in the active portfolio:\n",
    "residual_variance_market = 0.0114  # Variance of S&P 500\n",
    "risk_premium_market = 0.056\n",
    "initial_position_portfolio = (alpha_portfolio * residual_variance_market) / (residual_variance_portfolio * risk_premium_market)\n",
    "print(f\"Initial position of the active portfolio: {initial_position_portfolio}\\n\")\n",
    "\n",
    "# STEP 6:\n",
    "# Compute the beta of the active portfolio:\n",
    "beta_portfolio = sum(weights[ticker] * beta[ticker] for ticker in tickers)\n",
    "print(f\"Beta of the active portfolio: {beta_portfolio}\\n\")\n",
    "\n",
    "#STEP 7:\n",
    "# Adjust the initial position in active portfolio\n",
    "adjusted_position_portfolio = initial_position_portfolio/1+(1-beta_portfolio)*initial_position_portfolio\n",
    "print(f\"Adjusted position of the active portfolio: {adjusted_position_portfolio}\")\n",
    "\n",
    "# STEP 8:\n",
    "# Optimal risky portfolio now has weights:\n",
    "final_weight_market = 1 - adjusted_position_portfolio\n",
    "weights = {ticker: weight * adjusted_position_portfolio for ticker, weight in weights.items()}\n",
    "\n",
    "print(\"------------------------------\")\n",
    "print(\"Final Weights:\")\n",
    "print(\"Weight Market S&P:\", final_weight_market)\n",
    "print(f\"Weights: {weights}\")\n",
    "print(\"------------------------------\")\n",
    "\n",
    "#STEP 9:\n",
    "# Calculate the risk premium of P (Optimal risky portfolio):\n",
    "risk_premium_porfolio = (final_weight_market+adjusted_position_portfolio*beta_portfolio)*risk_premium_market + adjusted_position_portfolio*alpha_portfolio\n",
    "print(\"Risk premium of portfolio: \", risk_premium_porfolio)\n",
    "\n",
    "#STEP 10:\n",
    "# Compute the variance of Portfolio:\n",
    "portfolio_variance = (final_weight_market+adjusted_position_portfolio*beta_portfolio)*(final_weight_market+adjusted_position_portfolio*beta_portfolio)*residual_variance_market + adjusted_position_portfolio*adjusted_position_portfolio*residual_variance_portfolio\n",
    "print(\"Variance of portfolio: \", portfolio_variance)\n",
    "\n",
    "sharpe_ratio = risk_premium_porfolio / (portfolio_variance**0.5)\n",
    "print(f\"Sharpe ratio: {sharpe_ratio}\")"
   ]
  },
  {
   "cell_type": "code",
   "execution_count": null,
   "id": "5ca8fdac",
   "metadata": {},
   "outputs": [],
   "source": []
  },
  {
   "cell_type": "markdown",
   "id": "8db4f9d8",
   "metadata": {},
   "source": [
    "### Capital asset pricing model (CAPM)"
   ]
  },
  {
   "cell_type": "markdown",
   "id": "a626fe31",
   "metadata": {},
   "source": [
    "### Arbitrage pricing theory and multifactor model"
   ]
  },
  {
   "cell_type": "markdown",
   "id": "95dccb95",
   "metadata": {},
   "source": [
    "### Equity valuation model"
   ]
  },
  {
   "cell_type": "markdown",
   "id": "cea01344",
   "metadata": {},
   "source": [
    "### Black Litterman model "
   ]
  },
  {
   "cell_type": "markdown",
   "id": "4c980fa0",
   "metadata": {},
   "source": [
    "### Algorithmic trading"
   ]
  },
  {
   "cell_type": "code",
   "execution_count": null,
   "id": "52127674",
   "metadata": {},
   "outputs": [],
   "source": [
    "import numpy as np\n",
    "from keras.models import Sequential\n",
    "from keras.layers import Dense\n",
    "\n",
    "# Create random input data\n",
    "X = np.random.rand(100, 10)  # 100 samples with 10 features each\n",
    "y = np.random.randint(2, size=(100, 1))  # Binary target variable\n",
    "\n",
    "# Define the neural network architecture\n",
    "model = Sequential()\n",
    "model.add(Dense(64, activation='relu', input_dim=10))\n",
    "model.add(Dense(64, activation='relu'))\n",
    "model.add(Dense(1, activation='sigmoid'))\n",
    "\n",
    "# Compile the model\n",
    "model.compile(loss='binary_crossentropy',\n",
    "              optimizer='adam',\n",
    "              metrics=['accuracy'])\n",
    "\n",
    "# Train the model\n",
    "model.fit(X, y, epochs=10, batch_size=32)\n",
    "\n",
    "# Make predictions\n",
    "predictions = model.predict(X)\n"
   ]
  },
  {
   "cell_type": "code",
   "execution_count": null,
   "id": "69b59fc4",
   "metadata": {},
   "outputs": [],
   "source": [
    "import numpy as np\n",
    "\n",
    "# Historical stock returns\n",
    "aapl_returns = np.array([0.02, 0.05, -0.01, 0.03, 0.01])  # Replace with actual returns\n",
    "msft_returns = np.array([0.03, 0.04, 0.01, -0.02, 0.02])  # Replace with actual returns\n",
    "amzn_returns = np.array([0.04, -0.01, 0.02, 0.03, 0.05])  # Replace with actual returns\n",
    "\n",
    "# Portfolio weights\n",
    "weights = np.array([0.4, 0.3, 0.3])  # Adjust the weights as per your desired allocation\n",
    "\n",
    "# Calculate portfolio returns\n",
    "portfolio_returns = np.dot(np.array([aapl_returns, msft_returns, amzn_returns]).T, weights)\n",
    "\n",
    "# Calculate portfolio standard deviation\n",
    "portfolio_std = np.std(portfolio_returns)\n",
    "\n",
    "# Risk-free rate (assumed to be 2%)\n",
    "risk_free_rate = 0.02\n",
    "\n",
    "# Calculate Sharpe ratio\n",
    "sharpe_ratio = (np.mean(portfolio_returns) - risk_free_rate) / portfolio_std\n",
    "\n",
    "print(\"Sharpe Ratio:\", sharpe_ratio)\n"
   ]
  },
  {
   "cell_type": "code",
   "execution_count": null,
   "id": "dd4aacbd",
   "metadata": {},
   "outputs": [],
   "source": [
    "import numpy as np\n",
    "from sklearn.linear_model import LinearRegression\n",
    "\n",
    "# Historical asset returns\n",
    "aapl_returns = np.array([0.02, 0.05, -0.01, 0.03, 0.01])  # Replace with actual returns\n",
    "msft_returns = np.array([0.03, 0.04, 0.01, -0.02, 0.02])  # Replace with actual returns\n",
    "amzn_returns = np.array([0.04, -0.01, 0.02, 0.03, 0.05])  # Replace with actual returns\n",
    "\n",
    "# Historical market returns\n",
    "market_returns = np.array([0.02, 0.03, 0.01, 0.02, 0.04])  # Replace with actual returns\n",
    "\n",
    "# Perform linear regression to estimate asset betas\n",
    "regressor = LinearRegression()\n",
    "regressor.fit(market_returns.reshape(-1, 1), aapl_returns)\n",
    "aapl_beta = regressor.coef_[0]\n",
    "\n",
    "regressor.fit(market_returns.reshape(-1, 1), msft_returns)\n",
    "msft_beta = regressor.coef_[0]\n",
    "\n",
    "regressor.fit(market_returns.reshape(-1, 1), amzn_returns)\n",
    "amzn_beta = regressor.coef_[0]\n",
    "\n",
    "# Determine the expected market return and risk-free rate\n",
    "expected_market_return = np.mean(market_returns)\n",
    "risk_free_rate = 0.02\n",
    "\n",
    "# Set the range of weights to try\n",
    "min_weight = 0\n",
    "max_weight = 1\n",
    "step_size = 0.1\n",
    "\n",
    "best_sharpe_ratio = -np.inf\n",
    "optimal_weights = None\n",
    "\n",
    "# Iterate over different weight combinations\n",
    "for aapl_weight in np.arange(min_weight, max_weight + step_size, step_size):\n",
    "    for msft_weight in np.arange(min_weight, max_weight - aapl_weight + step_size, step_size):\n",
    "        amzn_weight = 1 - aapl_weight - msft_weight\n",
    "\n",
    "        # Calculate expected returns using the single index model formula\n",
    "        aapl_expected_return = risk_free_rate + aapl_beta * (expected_market_return - risk_free_rate)\n",
    "        msft_expected_return = risk_free_rate + msft_beta * (expected_market_return - risk_free_rate)\n",
    "        amzn_expected_return = risk_free_rate + amzn_beta * (expected_market_return - risk_free_rate)\n",
    "\n",
    "        # Calculate portfolio expected return\n",
    "        portfolio_expected_return = aapl_weight * aapl_expected_return + msft_weight * msft_expected_return + amzn_weight * amzn_expected_return\n",
    "\n",
    "        # Calculate portfolio risk (variance)\n",
    "        asset_covariance = np.cov(np.array([aapl_returns, msft_returns, amzn_returns]))\n",
    "        portfolio_variance = (aapl_weight ** 2) * asset_covariance[0, 0] + (msft_weight ** 2) * asset_covariance[1, 1] + (amzn_weight ** 2) * asset_covariance[2, 2] + 2 * aapl_weight * msft_weight * asset_covariance[0, 1] + 2 * aapl_weight * amzn_weight * asset_covariance[0, 2] + 2 * msft_weight * amzn_weight * asset_covariance[1, 2]\n",
    "\n",
    "        # Calculate Sharpe ratio\n",
    "        sharpe_ratio = (portfolio_expected_return - risk_free_rate) / np.sqrt(portfolio_variance)\n",
    "\n",
    "        # Update best Sharpe ratio and optimal weights if a higher value is found\n",
    "        if sharpe_ratio > best_sharpe_ratio:\n",
    "            best_sharpe_ratio = sharpe_ratio\n",
    "            optimal_weights = (aapl_weight, msft_weight, amzn_weight)\n",
    "\n",
    "print(\"Optimal Weights:\", optimal_weights)\n",
    "print(\"Best Sharpe Ratio:\", best_sharpe_ratio)\n"
   ]
  },
  {
   "cell_type": "code",
   "execution_count": null,
   "id": "02b4a904",
   "metadata": {},
   "outputs": [],
   "source": [
    "import yfinance as yf\n",
    "import matplotlib.pyplot as plt\n",
    "import pandas as pd\n",
    "import numpy as np\n",
    "tickers = [\"MSFT\", \"AMZN\", \"KO\", \"MA\", \"COST\", \n",
    "           \"LUV\", \"XOM\", \"PFE\", \"JPM\", \"UNH\", \n",
    "           \"ACN\", \"DIS\", \"GILD\", \"F\", \"TSLA\"] \n",
    "ohlc = yf.download(tickers, period=\"5y\")"
   ]
  },
  {
   "cell_type": "code",
   "execution_count": null,
   "id": "065e04f7",
   "metadata": {},
   "outputs": [],
   "source": [
    "prices = ohlc[\"Adj Close\"].dropna(how=\"all\")\n",
    "prices.tail()"
   ]
  }
 ],
 "metadata": {
  "kernelspec": {
   "display_name": "Python 3 (ipykernel)",
   "language": "python",
   "name": "python3"
  },
  "language_info": {
   "codemirror_mode": {
    "name": "ipython",
    "version": 3
   },
   "file_extension": ".py",
   "mimetype": "text/x-python",
   "name": "python",
   "nbconvert_exporter": "python",
   "pygments_lexer": "ipython3",
   "version": "3.10.9"
  }
 },
 "nbformat": 4,
 "nbformat_minor": 5
}
