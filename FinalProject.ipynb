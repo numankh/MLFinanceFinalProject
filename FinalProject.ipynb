{
 "cells": [
  {
   "cell_type": "markdown",
   "id": "1c3d512f",
   "metadata": {},
   "source": [
    "# Final Project"
   ]
  },
  {
   "cell_type": "markdown",
   "id": "5455474e",
   "metadata": {},
   "source": [
    "## Load Data"
   ]
  },
  {
   "cell_type": "code",
   "execution_count": 9,
   "id": "40e998cb",
   "metadata": {},
   "outputs": [
    {
     "name": "stdout",
     "output_type": "stream",
     "text": [
      "[*********************100%***********************]  15 of 15 completed\n"
     ]
    },
    {
     "data": {
      "text/html": [
       "<div>\n",
       "<style scoped>\n",
       "    .dataframe tbody tr th:only-of-type {\n",
       "        vertical-align: middle;\n",
       "    }\n",
       "\n",
       "    .dataframe tbody tr th {\n",
       "        vertical-align: top;\n",
       "    }\n",
       "\n",
       "    .dataframe thead th {\n",
       "        text-align: right;\n",
       "    }\n",
       "</style>\n",
       "<table border=\"1\" class=\"dataframe\">\n",
       "  <thead>\n",
       "    <tr style=\"text-align: right;\">\n",
       "      <th></th>\n",
       "      <th>AAPL</th>\n",
       "      <th>AMZN</th>\n",
       "      <th>BRK-B</th>\n",
       "      <th>GOOGL</th>\n",
       "      <th>JNJ</th>\n",
       "      <th>JPM</th>\n",
       "      <th>LLY</th>\n",
       "      <th>META</th>\n",
       "      <th>MSFT</th>\n",
       "      <th>NVDA</th>\n",
       "      <th>PG</th>\n",
       "      <th>TSLA</th>\n",
       "      <th>UNH</th>\n",
       "      <th>V</th>\n",
       "      <th>XOM</th>\n",
       "    </tr>\n",
       "    <tr>\n",
       "      <th>Date</th>\n",
       "      <th></th>\n",
       "      <th></th>\n",
       "      <th></th>\n",
       "      <th></th>\n",
       "      <th></th>\n",
       "      <th></th>\n",
       "      <th></th>\n",
       "      <th></th>\n",
       "      <th></th>\n",
       "      <th></th>\n",
       "      <th></th>\n",
       "      <th></th>\n",
       "      <th></th>\n",
       "      <th></th>\n",
       "      <th></th>\n",
       "    </tr>\n",
       "  </thead>\n",
       "  <tbody>\n",
       "    <tr>\n",
       "      <th>2023-06-27</th>\n",
       "      <td>188.059998</td>\n",
       "      <td>129.179993</td>\n",
       "      <td>335.339996</td>\n",
       "      <td>118.330002</td>\n",
       "      <td>163.289993</td>\n",
       "      <td>139.199997</td>\n",
       "      <td>464.500000</td>\n",
       "      <td>287.049988</td>\n",
       "      <td>334.570007</td>\n",
       "      <td>418.760010</td>\n",
       "      <td>150.020004</td>\n",
       "      <td>250.210007</td>\n",
       "      <td>482.559998</td>\n",
       "      <td>227.339996</td>\n",
       "      <td>104.550003</td>\n",
       "    </tr>\n",
       "    <tr>\n",
       "      <th>2023-06-28</th>\n",
       "      <td>189.250000</td>\n",
       "      <td>129.039993</td>\n",
       "      <td>334.149994</td>\n",
       "      <td>120.180000</td>\n",
       "      <td>162.960007</td>\n",
       "      <td>138.589996</td>\n",
       "      <td>458.700012</td>\n",
       "      <td>285.290009</td>\n",
       "      <td>335.850006</td>\n",
       "      <td>411.170013</td>\n",
       "      <td>149.990005</td>\n",
       "      <td>256.239990</td>\n",
       "      <td>474.450012</td>\n",
       "      <td>227.960007</td>\n",
       "      <td>105.400002</td>\n",
       "    </tr>\n",
       "    <tr>\n",
       "      <th>2023-06-29</th>\n",
       "      <td>189.589996</td>\n",
       "      <td>127.900002</td>\n",
       "      <td>336.910004</td>\n",
       "      <td>119.099998</td>\n",
       "      <td>164.100006</td>\n",
       "      <td>143.429993</td>\n",
       "      <td>464.489990</td>\n",
       "      <td>281.529999</td>\n",
       "      <td>335.049988</td>\n",
       "      <td>408.220001</td>\n",
       "      <td>149.380005</td>\n",
       "      <td>257.500000</td>\n",
       "      <td>476.440002</td>\n",
       "      <td>234.320007</td>\n",
       "      <td>106.699997</td>\n",
       "    </tr>\n",
       "    <tr>\n",
       "      <th>2023-06-30</th>\n",
       "      <td>193.970001</td>\n",
       "      <td>130.360001</td>\n",
       "      <td>341.000000</td>\n",
       "      <td>119.699997</td>\n",
       "      <td>165.520004</td>\n",
       "      <td>145.440002</td>\n",
       "      <td>468.980011</td>\n",
       "      <td>286.980011</td>\n",
       "      <td>340.540009</td>\n",
       "      <td>423.019989</td>\n",
       "      <td>151.740005</td>\n",
       "      <td>261.769989</td>\n",
       "      <td>480.640015</td>\n",
       "      <td>237.479996</td>\n",
       "      <td>107.250000</td>\n",
       "    </tr>\n",
       "    <tr>\n",
       "      <th>2023-07-03</th>\n",
       "      <td>192.460007</td>\n",
       "      <td>130.220001</td>\n",
       "      <td>342.000000</td>\n",
       "      <td>119.900002</td>\n",
       "      <td>163.350006</td>\n",
       "      <td>146.610001</td>\n",
       "      <td>461.420013</td>\n",
       "      <td>286.019989</td>\n",
       "      <td>337.989990</td>\n",
       "      <td>424.130005</td>\n",
       "      <td>152.500000</td>\n",
       "      <td>279.820007</td>\n",
       "      <td>477.880005</td>\n",
       "      <td>237.970001</td>\n",
       "      <td>107.459999</td>\n",
       "    </tr>\n",
       "  </tbody>\n",
       "</table>\n",
       "</div>"
      ],
      "text/plain": [
       "                  AAPL        AMZN       BRK-B       GOOGL         JNJ  \\\n",
       "Date                                                                     \n",
       "2023-06-27  188.059998  129.179993  335.339996  118.330002  163.289993   \n",
       "2023-06-28  189.250000  129.039993  334.149994  120.180000  162.960007   \n",
       "2023-06-29  189.589996  127.900002  336.910004  119.099998  164.100006   \n",
       "2023-06-30  193.970001  130.360001  341.000000  119.699997  165.520004   \n",
       "2023-07-03  192.460007  130.220001  342.000000  119.900002  163.350006   \n",
       "\n",
       "                   JPM         LLY        META        MSFT        NVDA  \\\n",
       "Date                                                                     \n",
       "2023-06-27  139.199997  464.500000  287.049988  334.570007  418.760010   \n",
       "2023-06-28  138.589996  458.700012  285.290009  335.850006  411.170013   \n",
       "2023-06-29  143.429993  464.489990  281.529999  335.049988  408.220001   \n",
       "2023-06-30  145.440002  468.980011  286.980011  340.540009  423.019989   \n",
       "2023-07-03  146.610001  461.420013  286.019989  337.989990  424.130005   \n",
       "\n",
       "                    PG        TSLA         UNH           V         XOM  \n",
       "Date                                                                    \n",
       "2023-06-27  150.020004  250.210007  482.559998  227.339996  104.550003  \n",
       "2023-06-28  149.990005  256.239990  474.450012  227.960007  105.400002  \n",
       "2023-06-29  149.380005  257.500000  476.440002  234.320007  106.699997  \n",
       "2023-06-30  151.740005  261.769989  480.640015  237.479996  107.250000  \n",
       "2023-07-03  152.500000  279.820007  477.880005  237.970001  107.459999  "
      ]
     },
     "execution_count": 9,
     "metadata": {},
     "output_type": "execute_result"
    }
   ],
   "source": [
    "import yfinance as yf\n",
    "from pypfopt import plotting, EfficientFrontier, objective_functions, expected_returns\n",
    "import numpy as np\n",
    "import pandas as pd\n",
    "from sklearn.linear_model import LinearRegression\n",
    "from sklearn.neural_network import MLPRegressor\n",
    "from sklearn.ensemble import RandomForestRegressor, GradientBoostingRegressor\n",
    "from sklearn.svm import SVR\n",
    "from sklearn.linear_model import Ridge\n",
    "from sklearn.preprocessing import StandardScaler\n",
    "from pypfopt import BlackLittermanModel, black_litterman, risk_models\n",
    "\n",
    "\n",
    "tickers = [\"AAPL\", \"AMZN\", \"BRK-B\", \"GOOGL\", \"META\", \"MSFT\", \"NVDA\",\n",
    "           \"TSLA\", \"UNH\", \"XOM\", \"JPM\", \"JNJ\", \"V\", \"LLY\", \"PG\"]\n",
    "portfolio_data = yf.download(tickers, period=\"5y\")\n",
    "portfolio_data = portfolio_data[\"Adj Close\"]\n",
    "portfolio_data.tail()"
   ]
  },
  {
   "cell_type": "code",
   "execution_count": 10,
   "id": "937b3971",
   "metadata": {},
   "outputs": [
    {
     "name": "stdout",
     "output_type": "stream",
     "text": [
      "[*********************100%***********************]  1 of 1 completed\n"
     ]
    },
    {
     "data": {
      "text/plain": [
       "Date\n",
       "2023-06-27    4378.410156\n",
       "2023-06-28    4376.859863\n",
       "2023-06-29    4396.439941\n",
       "2023-06-30    4450.379883\n",
       "2023-07-03    4455.589844\n",
       "Name: Adj Close, dtype: float64"
      ]
     },
     "execution_count": 10,
     "metadata": {},
     "output_type": "execute_result"
    }
   ],
   "source": [
    "market_index_ticker = \"^GSPC\"  # S&P 500 index\n",
    "market_index_data = yf.download(market_index_ticker, period=\"5y\")\n",
    "market_index_data = market_index_data[\"Adj Close\"]\n",
    "market_index_data.tail()"
   ]
  },
  {
   "cell_type": "code",
   "execution_count": 11,
   "id": "b2cfb6f8",
   "metadata": {},
   "outputs": [],
   "source": [
    "# Utility function to predict stock price for 10 future days using a non-linear regression model\n",
    "def forecast_price(data, reg_model):\n",
    "    dev_x = [data[i:i+10] for i in range(len(data)-20)]\n",
    "    dev_y = [data[i+10] for i in range(10,len(data)-10)]\n",
    "    test = [data[i:i+10] for i in range(len(data)-20,len(data)-10)]\n",
    "    reg_model.fit(dev_x,dev_y)\n",
    "    pred = reg_model.predict(test)\n",
    "    return pred"
   ]
  },
  {
   "cell_type": "markdown",
   "id": "12c777d4",
   "metadata": {},
   "source": [
    "## Mean Variance Optimization"
   ]
  },
  {
   "cell_type": "code",
   "execution_count": 12,
   "id": "213e43dd",
   "metadata": {},
   "outputs": [
    {
     "name": "stdout",
     "output_type": "stream",
     "text": [
      "----------------------------------------------------\n",
      "Non-linear ML model: RandomForestRegressor()\n",
      "\n",
      "Weights: OrderedDict([('AAPL', 0.09829), ('AMZN', 0.0), ('BRK-B', 0.08532), ('GOOGL', 0.03853), ('META', 0.05345), ('MSFT', 0.09542), ('NVDA', 0.09795), ('TSLA', 0.0), ('UNH', 0.09128), ('XOM', 0.09379), ('JPM', 0.02113), ('JNJ', 0.08051), ('V', 0.07559), ('LLY', 0.09787), ('PG', 0.07088)])\n",
      "Expected annual return: 0.18905895581684629\n",
      "Annual volatility: 0.0918826594892591\n",
      "Sharpe ratio: 1.8399440847335178\n",
      "----------------------------------------------------\n",
      "Non-linear ML model: GradientBoostingRegressor()\n",
      "\n",
      "Weights: OrderedDict([('AAPL', 0.10738), ('AMZN', 0.0), ('BRK-B', 0.09247), ('GOOGL', 0.04598), ('META', 0.08368), ('MSFT', 0.03926), ('NVDA', 0.10203), ('TSLA', 0.0), ('UNH', 0.10583), ('XOM', 0.08291), ('JPM', 0.01742), ('JNJ', 0.0771), ('V', 0.05106), ('LLY', 0.10563), ('PG', 0.08925)])\n",
      "Expected annual return: 0.12073700058632124\n",
      "Annual volatility: 0.057315238427784604\n",
      "Sharpe ratio: 1.7575954205136333\n",
      "----------------------------------------------------\n",
      "Non-linear ML model: MLPRegressor(hidden_layer_sizes=(100, 100))\n",
      "\n"
     ]
    },
    {
     "name": "stderr",
     "output_type": "stream",
     "text": [
      "/opt/homebrew/lib/python3.10/site-packages/sklearn/neural_network/_multilayer_perceptron.py:684: ConvergenceWarning: Stochastic Optimizer: Maximum iterations (200) reached and the optimization hasn't converged yet.\n",
      "  warnings.warn(\n"
     ]
    },
    {
     "name": "stdout",
     "output_type": "stream",
     "text": [
      "Weights: OrderedDict([('AAPL', 0.00079), ('AMZN', 0.04963), ('BRK-B', 0.13639), ('GOOGL', 0.12173), ('META', 0.0), ('MSFT', 0.08581), ('NVDA', 0.0), ('TSLA', 0.0), ('UNH', 0.03846), ('XOM', 0.07404), ('JPM', 0.04086), ('JNJ', 0.14674), ('V', 0.05405), ('LLY', 0.06787), ('PG', 0.18364)])\n",
      "Expected annual return: 0.08323087872019111\n",
      "Annual volatility: 0.04081713595254665\n",
      "Sharpe ratio: 1.5491258081826789\n",
      "----------------------------------------------------\n",
      "Non-linear ML model: SVR()\n",
      "\n",
      "Weights: OrderedDict([('AAPL', 0.14493), ('AMZN', 0.02331), ('BRK-B', 0.09521), ('GOOGL', 0.013), ('META', 0.12612), ('MSFT', 0.04146), ('NVDA', 0.01814), ('TSLA', 0.01142), ('UNH', 0.06791), ('XOM', 0.10119), ('JPM', 0.00181), ('JNJ', 0.04661), ('V', 0.0507), ('LLY', 0.16418), ('PG', 0.09398)])\n",
      "Expected annual return: 0.001021012153627639\n",
      "Annual volatility: 0.009272883646401407\n",
      "Sharpe ratio: -2.0467190757578058\n"
     ]
    }
   ],
   "source": [
    "reg_models = [RandomForestRegressor(), GradientBoostingRegressor(), MLPRegressor(hidden_layer_sizes=(100, 100)), SVR()]\n",
    "\n",
    "for reg_model in reg_models:\n",
    "    print(\"----------------------------------------------------\")\n",
    "    print(f\"Non-linear ML model: {reg_model}\\n\")\n",
    "    \n",
    "    future_prices = {}\n",
    "    for ticker in tickers:\n",
    "        future_prices[ticker] = forecast_price(portfolio_data[ticker], reg_model)\n",
    "\n",
    "    future_prices = pd.DataFrame(future_prices)\n",
    "    S = risk_models.CovarianceShrinkage(future_prices).ledoit_wolf()\n",
    "\n",
    "    mu = expected_returns.capm_return(future_prices)\n",
    "\n",
    "    ef = EfficientFrontier(mu, S)\n",
    "    ef.min_volatility()\n",
    "    weights = ef.clean_weights()\n",
    "    print(f\"Weights: {weights}\")\n",
    "\n",
    "    ret, volatility, sharpe_ratio = ef.portfolio_performance()\n",
    "    print(\"Expected annual return:\", ret)\n",
    "    print(\"Annual volatility:\", volatility)\n",
    "    print(\"Sharpe ratio:\", sharpe_ratio)"
   ]
  },
  {
   "cell_type": "markdown",
   "id": "69e43441",
   "metadata": {},
   "source": [
    "## Index model"
   ]
  },
  {
   "cell_type": "code",
   "execution_count": 13,
   "id": "9c479c60",
   "metadata": {},
   "outputs": [
    {
     "name": "stdout",
     "output_type": "stream",
     "text": [
      "----------------------------------------------------\n",
      "Non-linear ML model: RandomForestRegressor()\n",
      "\n",
      "Weights: {'AAPL': 0.10453201485696424, 'AMZN': -0.13258494822887473, 'BRK-B': -0.1963424444239801, 'GOOGL': 0.09186390491669533, 'META': 0.013003633795059514, 'MSFT': 0.00031199712072986214, 'NVDA': 0.06377117126433944, 'TSLA': -0.008407295867087704, 'UNH': -0.0846079077907419, 'XOM': -0.009685539513443914, 'JPM': 0.039675946708028605, 'JNJ': -0.07465100959610031, 'V': 0.047139111449644555, 'LLY': -0.006805069550490406, 'PG': 0.017913851537555578}\n",
      "Market weight: 1.134872583321702\n",
      "Sharpe ratio: 0.5725357588046383\n",
      "----------------------------------------------------\n",
      "Non-linear ML model: GradientBoostingRegressor()\n",
      "\n",
      "Weights: {'AAPL': 0.5893596190773872, 'AMZN': -0.41943281389669523, 'BRK-B': -0.31949436738129106, 'GOOGL': 0.1025019217075352, 'META': -0.08398804704080262, 'MSFT': 0.662550995084664, 'NVDA': 0.3508662963007942, 'TSLA': 0.16029632268070615, 'UNH': 0.008976857885040573, 'XOM': 0.07863410791105162, 'JPM': -0.06736937594046363, 'JNJ': 0.48161721077861686, 'V': 0.04101669982198279, 'LLY': 0.1578181403104859, 'PG': 0.2877878959558585}\n",
      "Market weight: -1.0311414632548703\n",
      "Sharpe ratio: 0.5924742063681667\n",
      "----------------------------------------------------\n",
      "Non-linear ML model: MLPRegressor(hidden_layer_sizes=(100, 100))\n",
      "\n",
      "Weights: {'AAPL': 0.8574613441415572, 'AMZN': -0.3112239324674245, 'BRK-B': 0.04809487019112952, 'GOOGL': -0.17709284119143434, 'META': -0.31456801322274, 'MSFT': -0.15995720846260408, 'NVDA': 0.0885641985883645, 'TSLA': 0.0008936092968947328, 'UNH': -0.11172273113741578, 'XOM': 0.029547730375245423, 'JPM': 0.1655294306867104, 'JNJ': 0.7452463151994485, 'V': 0.07580508466888225, 'LLY': -0.3247114914158739, 'PG': 0.02732819942146046}\n",
      "Market weight: 0.3608054353277995\n",
      "Sharpe ratio: 0.9768705401013865\n",
      "----------------------------------------------------\n",
      "Non-linear ML model: SVR()\n",
      "\n",
      "Weights: {'AAPL': -0.08038731589518044, 'AMZN': -0.03022767685331857, 'BRK-B': -0.0869918555703576, 'GOOGL': -0.024186796878421048, 'META': -0.13561032284323538, 'MSFT': -0.06431849545329354, 'NVDA': 0.0046738984585596105, 'TSLA': -0.039987600885678855, 'UNH': 0.02735383427213918, 'XOM': 0.015947152265701196, 'JPM': 0.007860904433638873, 'JNJ': 0.1432844591649783, 'V': -0.37408747195137565, 'LLY': -0.1471069338584947, 'PG': -0.3256841277634762}\n",
      "Market weight: 2.109468349357815\n",
      "Sharpe ratio: -4.156008691348129\n"
     ]
    }
   ],
   "source": [
    "reg_models = [RandomForestRegressor(), GradientBoostingRegressor(), MLPRegressor(hidden_layer_sizes=(100, 100)), SVR()]\n",
    "\n",
    "for reg_model in reg_models:\n",
    "    print(\"----------------------------------------------------\")\n",
    "    print(f\"Non-linear ML model: {reg_model}\\n\")\n",
    "\n",
    "    returns = {\"MARKET\": ((market_index_data / market_index_data.shift(1)) - 1).dropna().tolist()}\n",
    "    for ticker in tickers:\n",
    "        returns[ticker] = ((portfolio_data[ticker] / portfolio_data[ticker].shift(1))-1).dropna().tolist()\n",
    "    market_future = forecast_price(returns[\"MARKET\"], reg_model)\n",
    "\n",
    "\n",
    "    beta = {}\n",
    "    alpha = {}\n",
    "    residual_variance = {}\n",
    "    for ticker in tickers:\n",
    "        stock_future = forecast_price(returns[ticker], reg_model)\n",
    "\n",
    "        single_index_reg = LinearRegression()\n",
    "        single_index_reg.fit(np.array(market_future).reshape(-1, 1), y=stock_future)\n",
    "\n",
    "        beta[ticker] = single_index_reg.coef_[0]\n",
    "        alpha[ticker] = single_index_reg.intercept_\n",
    "\n",
    "        y_pred = single_index_reg.predict(np.array(returns[\"MARKET\"]).reshape(-1, 1))\n",
    "        residuals = returns[ticker] - y_pred\n",
    "        residual_variance[ticker] = np.var(residuals)\n",
    "\n",
    "\n",
    "    # Compute the initial position of each security\n",
    "    weights = {ticker: alpha[ticker] / residual_variance[ticker] for ticker in tickers}\n",
    "    total_weight = sum(weights.values())\n",
    "    weights = {ticker: weight / total_weight for ticker, weight in weights.items()}\n",
    "\n",
    "    # Compute the alpha of the active portfolio\n",
    "    alpha_portfolio = sum(weights[ticker] * alpha[ticker] for ticker in tickers)\n",
    "\n",
    "    # Compute the residual variance of the active portfolio\n",
    "    residual_variance_portfolio = sum((weights[ticker] ** 2) * residual_variance[ticker] for ticker in tickers)\n",
    "\n",
    "    # Compute the initial position in the active portfolio\n",
    "    residual_variance_market = 0.0114  # Variance of S&P 500\n",
    "    risk_premium_market = 0.056\n",
    "    initial_position_portfolio = (alpha_portfolio * residual_variance_market) / (residual_variance_portfolio * risk_premium_market)\n",
    "\n",
    "    # Compute the beta of the active portfolio\n",
    "    beta_portfolio = sum(weights[ticker] * beta[ticker] for ticker in tickers)\n",
    "\n",
    "    # Adjust the initial position in the active portfolio\n",
    "    adjusted_position_portfolio = initial_position_portfolio / (1 + (1 - beta_portfolio) * initial_position_portfolio)\n",
    "\n",
    "    # Optimal risky portfolio now has weights\n",
    "    final_weight_market = 1 - adjusted_position_portfolio\n",
    "    weights = {ticker: weight * adjusted_position_portfolio for ticker, weight in weights.items()}\n",
    "\n",
    "    # Calculate the risk premium of the portfolio\n",
    "    risk_premium_portfolio = (final_weight_market + adjusted_position_portfolio * beta_portfolio) * risk_premium_market + adjusted_position_portfolio * alpha_portfolio\n",
    "\n",
    "    # Compute the variance of the portfolio\n",
    "    portfolio_variance = (final_weight_market + adjusted_position_portfolio * beta_portfolio) ** 2 * residual_variance_market + adjusted_position_portfolio ** 2 * residual_variance_portfolio\n",
    "\n",
    "    # Calculate the Sharpe ratio\n",
    "    sharpe_ratio = risk_premium_portfolio / (portfolio_variance ** 0.5)\n",
    "\n",
    "    print(f\"Weights: {weights}\")\n",
    "    print(f\"Market weight: {final_weight_market}\")\n",
    "    print(f\"Sharpe ratio: {sharpe_ratio}\")"
   ]
  },
  {
   "cell_type": "markdown",
   "id": "8db4f9d8",
   "metadata": {},
   "source": [
    "## Capital asset pricing model (CAPM)"
   ]
  },
  {
   "cell_type": "code",
   "execution_count": 14,
   "id": "37b915a1",
   "metadata": {},
   "outputs": [
    {
     "name": "stdout",
     "output_type": "stream",
     "text": [
      "----------------------------------------------------\n",
      "Non-linear ML model: RandomForestRegressor()\n",
      "OrderedDict([('AAPL', 0.12686), ('AMZN', 0.0), ('BRK-B', 0.0), ('GOOGL', 0.00382), ('META', 0.0), ('MSFT', 0.11099), ('NVDA', 0.13603), ('TSLA', 0.17044), ('UNH', 0.07531), ('XOM', 0.02288), ('JPM', 0.0), ('JNJ', 0.03719), ('V', 0.0), ('LLY', 0.17838), ('PG', 0.13811)])\n",
      "Expected annual return: None\n",
      "Annual volatility: 8.162879437618876\n",
      "Sharpe ratio: None\n",
      "----------------------------------------------------\n",
      "Non-linear ML model: GradientBoostingRegressor()\n",
      "OrderedDict([('AAPL', 0.06013), ('AMZN', 0.0), ('BRK-B', 0.0), ('GOOGL', 0.0), ('META', 0.0), ('MSFT', 0.0), ('NVDA', 0.11199), ('TSLA', 0.32503), ('UNH', 0.0), ('XOM', 0.0), ('JPM', 0.0), ('JNJ', 0.0), ('V', 0.0), ('LLY', 0.37879), ('PG', 0.12404)])\n",
      "Expected annual return: None\n",
      "Annual volatility: 3.976388775823544\n",
      "Sharpe ratio: None\n",
      "----------------------------------------------------\n",
      "Non-linear ML model: MLPRegressor(hidden_layer_sizes=(100, 100))\n",
      "OrderedDict([('AAPL', 0.07914), ('AMZN', 0.0681), ('BRK-B', 0.08295), ('GOOGL', 0.08434), ('META', 0.06783), ('MSFT', 0.03767), ('NVDA', 0.07692), ('TSLA', 0.07473), ('UNH', 0.06913), ('XOM', 0.04952), ('JPM', 0.06774), ('JNJ', 0.06996), ('V', 0.02082), ('LLY', 0.07452), ('PG', 0.07663)])\n",
      "Expected annual return: None\n",
      "Annual volatility: 21.69257757305587\n",
      "Sharpe ratio: None\n",
      "----------------------------------------------------\n",
      "Non-linear ML model: SVR()\n",
      "OrderedDict([('AAPL', 0.05171), ('AMZN', 0.0813), ('BRK-B', 0.07634), ('GOOGL', 0.07586), ('META', 0.08119), ('MSFT', 0.06042), ('NVDA', 0.04317), ('TSLA', 0.0), ('UNH', 0.06948), ('XOM', 0.07478), ('JPM', 0.08115), ('JNJ', 0.07376), ('V', 0.07908), ('LLY', 0.11118), ('PG', 0.0406)])\n",
      "Expected annual return: None\n",
      "Annual volatility: 0.4575920259091389\n",
      "Sharpe ratio: None\n"
     ]
    }
   ],
   "source": [
    "reg_models = [RandomForestRegressor(), GradientBoostingRegressor(), MLPRegressor(hidden_layer_sizes=(100, 100)), SVR()]\n",
    "\n",
    "for reg_model in reg_models:\n",
    "    print(\"----------------------------------------------------\")\n",
    "    print(f\"Non-linear ML model: {reg_model}\")\n",
    "    \n",
    "    returns = {\"MARKET\": ((market_index_data / market_index_data.shift(1)) - 1).dropna().tolist()}\n",
    "    for ticker in tickers:\n",
    "        returns[ticker] = ((portfolio_data[ticker] / portfolio_data[ticker].shift(1))-1).dropna().tolist()\n",
    "    market_future = forecast_price(returns[\"MARKET\"], reg_model)\n",
    "\n",
    "    future_returns = {}\n",
    "    for ticker in tickers:\n",
    "        single_index_reg = Ridge()\n",
    "        single_index_reg.fit(np.array(returns[\"MARKET\"]).reshape(-1, 1), y=returns[ticker])\n",
    "        future_returns[ticker] = single_index_reg.predict(np.array(market_future).reshape(-1, 1))\n",
    "\n",
    "    future_returns = pd.DataFrame(future_returns)\n",
    "\n",
    "    S = risk_models.CovarianceShrinkage(future_returns).ledoit_wolf()\n",
    "    ef = EfficientFrontier(None, S)\n",
    "    ef.min_volatility()\n",
    "    weights = ef.clean_weights()\n",
    "    print(weights)\n",
    "\n",
    "    ret, volatility, sharpe_ratio = ef.portfolio_performance()\n",
    "    print(\"Expected annual return:\", ret)\n",
    "    print(\"Annual volatility:\", volatility)\n",
    "    print(\"Sharpe ratio:\", sharpe_ratio)"
   ]
  },
  {
   "cell_type": "markdown",
   "id": "a626fe31",
   "metadata": {},
   "source": [
    "## Arbitrage pricing theory and multifactor model"
   ]
  },
  {
   "cell_type": "code",
   "execution_count": 31,
   "id": "4265d0ed",
   "metadata": {},
   "outputs": [
    {
     "name": "stdout",
     "output_type": "stream",
     "text": [
      "----------------------------------------------------\n",
      "Non-linear ML model: RandomForestRegressor()\n",
      "[*********************100%***********************]  3 of 3 completed\n"
     ]
    },
    {
     "name": "stderr",
     "output_type": "stream",
     "text": [
      "/opt/homebrew/lib/python3.10/site-packages/pypfopt/risk_models.py:70: UserWarning: The covariance matrix is non positive semidefinite. Amending eigenvalues.\n",
      "  warnings.warn(\n",
      "/opt/homebrew/lib/python3.10/site-packages/pypfopt/efficient_frontier/efficient_frontier.py:441: UserWarning: The risk_free_rate provided to portfolio_performance is different to the one used by max_sharpe. Using the previous value.\n",
      "  warnings.warn(\n"
     ]
    },
    {
     "name": "stdout",
     "output_type": "stream",
     "text": [
      "OrderedDict([('AAPL', 0.0), ('AMZN', 0.00232), ('BRK-B', 0.0), ('GOOGL', 0.0), ('META', 0.0), ('MSFT', 0.0), ('NVDA', 0.78935), ('TSLA', 0.20833), ('UNH', 0.0), ('XOM', 0.0)])\n",
      "Expected annual return: 0.0018754959302084834\n",
      "Annual volatility: 1.649533452626864\n",
      "Sharpe ratio: 0.0011369856896335001\n",
      "----------------------------------------------------\n",
      "Non-linear ML model: GradientBoostingRegressor()\n",
      "[*********************100%***********************]  3 of 3 completed\n"
     ]
    },
    {
     "name": "stderr",
     "output_type": "stream",
     "text": [
      "/opt/homebrew/lib/python3.10/site-packages/pypfopt/risk_models.py:70: UserWarning: The covariance matrix is non positive semidefinite. Amending eigenvalues.\n",
      "  warnings.warn(\n",
      "/opt/homebrew/lib/python3.10/site-packages/pypfopt/risk_models.py:89: UserWarning: Could not fix matrix. Please try a different risk model.\n",
      "  warnings.warn(\n",
      "/opt/homebrew/lib/python3.10/site-packages/pypfopt/efficient_frontier/efficient_frontier.py:441: UserWarning: The risk_free_rate provided to portfolio_performance is different to the one used by max_sharpe. Using the previous value.\n",
      "  warnings.warn(\n"
     ]
    },
    {
     "name": "stdout",
     "output_type": "stream",
     "text": [
      "OrderedDict([('AAPL', 0.0), ('AMZN', 0.00609), ('BRK-B', 0.0), ('GOOGL', 0.0), ('META', 0.0), ('MSFT', 0.0), ('NVDA', 0.5438), ('TSLA', 0.28782), ('UNH', 0.00093), ('XOM', 0.16136)])\n",
      "Expected annual return: 0.001515657627297046\n",
      "Annual volatility: 0.20376655845670819\n",
      "Sharpe ratio: 0.007438205948887631\n",
      "----------------------------------------------------\n",
      "Non-linear ML model: MLPRegressor(hidden_layer_sizes=(100, 100))\n",
      "[*********************100%***********************]  3 of 3 completed\n",
      "OrderedDict([('AAPL', 0.0), ('AMZN', 0.0), ('BRK-B', 0.0), ('GOOGL', 0.0), ('META', 0.0), ('MSFT', 0.0), ('NVDA', 0.3113), ('TSLA', 0.32039), ('UNH', 0.00291), ('XOM', 0.3654)])\n",
      "Expected annual return: 0.0012702323830164623\n",
      "Annual volatility: 0.27361679632411007\n",
      "Sharpe ratio: 0.004642377222748494\n",
      "----------------------------------------------------\n",
      "Non-linear ML model: SVR()\n"
     ]
    },
    {
     "name": "stderr",
     "output_type": "stream",
     "text": [
      "/opt/homebrew/lib/python3.10/site-packages/pypfopt/efficient_frontier/efficient_frontier.py:441: UserWarning: The risk_free_rate provided to portfolio_performance is different to the one used by max_sharpe. Using the previous value.\n",
      "  warnings.warn(\n"
     ]
    },
    {
     "name": "stdout",
     "output_type": "stream",
     "text": [
      "[*********************100%***********************]  3 of 3 completed\n",
      "OrderedDict([('AAPL', 0.0), ('AMZN', 0.0), ('BRK-B', 0.0), ('GOOGL', 0.0), ('META', 0.0), ('MSFT', 0.0), ('NVDA', 0.69851), ('TSLA', 0.27492), ('UNH', 0.0), ('XOM', 0.02658)])\n",
      "Expected annual return: 0.0014966892173548416\n",
      "Annual volatility: 0.5992097011586065\n",
      "Sharpe ratio: 0.0024977720061289174\n"
     ]
    },
    {
     "name": "stderr",
     "output_type": "stream",
     "text": [
      "/opt/homebrew/lib/python3.10/site-packages/pypfopt/risk_models.py:70: UserWarning: The covariance matrix is non positive semidefinite. Amending eigenvalues.\n",
      "  warnings.warn(\n",
      "/opt/homebrew/lib/python3.10/site-packages/pypfopt/efficient_frontier/efficient_frontier.py:441: UserWarning: The risk_free_rate provided to portfolio_performance is different to the one used by max_sharpe. Using the previous value.\n",
      "  warnings.warn(\n"
     ]
    }
   ],
   "source": [
    "reg_models = [RandomForestRegressor(), GradientBoostingRegressor(), MLPRegressor(hidden_layer_sizes=(100, 100)), SVR()]\n",
    "\n",
    "for reg in reg_models:\n",
    "    print(\"----------------------------------------------------\")\n",
    "    print(f\"Non-linear ML model: {reg}\")\n",
    "    \n",
    "    # Fetch historical data for the macroeconomic factors\n",
    "    factor_tickers = ['SPY', 'TLT', 'BND']\n",
    "    factor_data = yf.download(factor_tickers, period=\"5y\")\n",
    "    factor_data = factor_data['Adj Close']\n",
    "\n",
    "    # Calculate the returns for the S&P and Treasury bond factors\n",
    "    factor_returns = factor_data.pct_change().dropna()\n",
    "    spy_returns = factor_returns['SPY']\n",
    "    tlt_returns = factor_returns['TLT']\n",
    "    bnd_returns = factor_returns['BND']\n",
    "\n",
    "    # FACTOR 1\n",
    "    bnd_future = forecast_price(bnd_returns, reg_model)\n",
    "\n",
    "    # FACTOR 2\n",
    "    spy_future = forecast_price(spy_returns, reg_model)\n",
    "\n",
    "    # FACTOR 3\n",
    "    tlt_future = forecast_price(tlt_returns, reg_model)\n",
    "\n",
    "    # FACTOR 4\n",
    "    # GDP Price of USA for past 5 years\n",
    "\n",
    "    # US GDP per capita Prices of last 5 years\n",
    "    GDP_prices = {\n",
    "        2018: 59607,\n",
    "        2019: 60698,\n",
    "        2020: 58453,\n",
    "        2021: 61855,\n",
    "        2022: 62551,\n",
    "        2023: 63451 # Forecast data also available online\n",
    "    }\n",
    "\n",
    "    # Normalize the GDP values as it will make the other factors irrelevant as it is very large\n",
    "    values = list(GDP_prices.values())\n",
    "    values_array = [[value] for value in values]\n",
    "    scaler = StandardScaler()\n",
    "    scaled_values = scaler.fit_transform(values_array)\n",
    "    scaled_values = scaled_values.flatten()\n",
    "    scaled_GDP_prices = {year: scaled_value for year, scaled_value in zip(GDP_prices.keys(), scaled_values)}\n",
    "\n",
    "    # print(scaled_GDP_prices)\n",
    "\n",
    "    for index, row in factor_returns.iterrows():\n",
    "        # Extract the year from the date\n",
    "        year = index.year\n",
    "\n",
    "        # Fill the 'GDP' column with the corresponding GDP price based on the year\n",
    "        factor_returns.at[index, 'GDP'] = scaled_GDP_prices.get(year)\n",
    "\n",
    "    future_factors = {'BND': bnd_future, 'SPY': spy_future, 'TLT': tlt_future, 'GDP': [scaled_GDP_prices.get(2023)]*10}\n",
    "    future_factors = pd.DataFrame(future_factors)\n",
    "\n",
    "    returns = {}\n",
    "    future_returns = {}\n",
    "    for ticker in tickers:\n",
    "        stock_returns = ((portfolio_data[ticker] / portfolio_data[ticker].shift(1))-1).dropna().tolist()\n",
    "        returns[ticker] = stock_returns\n",
    "\n",
    "        single_index_reg = Ridge()\n",
    "        single_index_reg.fit(factor_returns, stock_returns)\n",
    "        stock_future = single_index_reg.predict(future_factors)\n",
    "        future_returns[ticker] = stock_future\n",
    "\n",
    "    future_returns = pd.DataFrame(future_returns)\n",
    "    S = risk_models.sample_cov(future_returns)\n",
    "\n",
    "    ef = EfficientFrontier(future_returns.mean(), S)\n",
    "    weights = ef.max_sharpe(risk_free_rate=0.0)\n",
    "    cleaned_weights = ef.clean_weights()\n",
    "    print(cleaned_weights)\n",
    "\n",
    "    ret, volatility, sharpe_ratio = ef.portfolio_performance()\n",
    "    print(\"Expected annual return:\", ret)\n",
    "    print(\"Annual volatility:\", volatility)\n",
    "    print(\"Sharpe ratio:\", sharpe_ratio)\n",
    "\n"
   ]
  },
  {
   "cell_type": "markdown",
   "id": "cea01344",
   "metadata": {},
   "source": [
    "## Black Litterman model "
   ]
  },
  {
   "cell_type": "code",
   "execution_count": 15,
   "id": "3d86d1e2",
   "metadata": {},
   "outputs": [
    {
     "name": "stdout",
     "output_type": "stream",
     "text": [
      "----------------------------------------------------\n",
      "Non-linear regression model: RandomForestRegressor()\n",
      "Views: {'AAPL': 0.005511098031458916, 'AMZN': 0.00034489218142447317, 'BRK-B': -0.001068012150730886, 'GOOGL': -0.0031692898354079803, 'META': 0.006420880037666343, 'MSFT': -0.00271099173159011, 'NVDA': 0.007131304303162337, 'TSLA': 0.00868418058083816, 'UNH': 0.004397904375108709, 'XOM': 0.0031635761038197297, 'JPM': 0.010954975803260502, 'JNJ': 0.0024384318094717227, 'V': -0.003777244533047199, 'LLY': 0.0018822149111028409, 'PG': 0.0005840524215791843}\n",
      "[*********************100%***********************]  1 of 1 completed\n",
      "OrderedDict([('AAPL', 0.0), ('AMZN', 0.0), ('BRK-B', 0.0), ('GOOGL', 0.0), ('JNJ', 0.0), ('JPM', 0.0), ('LLY', 0.0), ('META', 0.02372), ('MSFT', 0.0), ('NVDA', 0.30813), ('PG', 0.0), ('TSLA', 0.66815), ('UNH', 0.0), ('V', 0.0), ('XOM', 0.0)])\n",
      "Expected annual return: 0.05438473529159075\n",
      "Annual volatility: 0.5508614481177361\n",
      "Sharpe ratio: 0.062419934103360365\n",
      "----------------------------------------------------\n",
      "Non-linear regression model: GradientBoostingRegressor()\n"
     ]
    },
    {
     "name": "stderr",
     "output_type": "stream",
     "text": [
      "/opt/homebrew/lib/python3.10/site-packages/pypfopt/efficient_frontier/efficient_frontier.py:259: UserWarning: max_sharpe transforms the optimization problem so additional objectives may not work as expected.\n",
      "  warnings.warn(\n"
     ]
    },
    {
     "name": "stdout",
     "output_type": "stream",
     "text": [
      "Views: {'AAPL': 0.003369621968943532, 'AMZN': 0.0018779775464757217, 'BRK-B': -0.0012471009025219752, 'GOOGL': -0.003588571422636571, 'META': 0.004890396967907461, 'MSFT': -0.0005347419523557852, 'NVDA': 0.007843136497233961, 'TSLA': -0.0018200927555136932, 'UNH': 0.0033411751101986914, 'XOM': -0.00018105640127292317, 'JPM': 0.0011939920582235944, 'JNJ': 0.0005918638294351189, 'V': -0.0008562308609232687, 'LLY': -0.0009728375461369773, 'PG': -0.0012073066043709864}\n",
      "[*********************100%***********************]  1 of 1 completed\n",
      "OrderedDict([('AAPL', 0.0), ('AMZN', 0.00719), ('BRK-B', 0.0), ('GOOGL', 0.0), ('JNJ', 0.0), ('JPM', 0.0), ('LLY', 0.0), ('META', 0.01573), ('MSFT', 0.0), ('NVDA', 0.3302), ('PG', 0.0), ('TSLA', 0.64688), ('UNH', 0.0), ('V', 0.0), ('XOM', 0.0)])\n",
      "Expected annual return: 0.05236759023881758\n",
      "Annual volatility: 0.5453112625674705\n",
      "Sharpe ratio: 0.059356174098481575\n",
      "----------------------------------------------------\n",
      "Non-linear regression model: MLPRegressor(hidden_layer_sizes=(100, 100))\n"
     ]
    },
    {
     "name": "stderr",
     "output_type": "stream",
     "text": [
      "/opt/homebrew/lib/python3.10/site-packages/pypfopt/efficient_frontier/efficient_frontier.py:259: UserWarning: max_sharpe transforms the optimization problem so additional objectives may not work as expected.\n",
      "  warnings.warn(\n"
     ]
    },
    {
     "name": "stdout",
     "output_type": "stream",
     "text": [
      "Views: {'AAPL': 0.003674507947840147, 'AMZN': 0.0030936049324002957, 'BRK-B': 0.001422636568918112, 'GOOGL': 0.001686293244276913, 'META': 0.0038948461948367236, 'MSFT': 0.0020716085733893663, 'NVDA': 0.0066299660363618226, 'TSLA': -0.006771186339758539, 'UNH': 0.0037678376337792092, 'XOM': -0.0002035252537313792, 'JPM': -0.001372422209211313, 'JNJ': -0.0023598633859502616, 'V': -0.0022899466322585382, 'LLY': 0.00038182239173635557, 'PG': -0.00015262145118627446}\n",
      "[*********************100%***********************]  1 of 1 completed\n",
      "OrderedDict([('AAPL', 0.0), ('AMZN', 0.03343), ('BRK-B', 0.0), ('GOOGL', 0.0), ('JNJ', 0.0), ('JPM', 0.0), ('LLY', 0.0), ('META', 0.0256), ('MSFT', 0.0), ('NVDA', 0.33549), ('PG', 0.0), ('TSLA', 0.60548), ('UNH', 0.0), ('V', 0.0), ('XOM', 0.0)])\n",
      "Expected annual return: 0.050873930319289246\n",
      "Annual volatility: 0.5282659622438046\n",
      "Sharpe ratio: 0.05844391372132424\n",
      "----------------------------------------------------\n",
      "Non-linear regression model: SVR()\n",
      "Views: {'AAPL': -0.00012142014350708221, 'AMZN': 0.015986107034804065, 'BRK-B': 0.007365359484975839, 'GOOGL': -0.009469696458593852, 'META': 0.04811327248725136, 'MSFT': -0.00519932458652418, 'NVDA': 0.03659420957566495, 'TSLA': 0.023443626217182018, 'UNH': -0.0038791439531795178, 'XOM': -0.007346827669053963, 'JPM': 0.006031693291844366, 'JNJ': -0.010200692739127049, 'V': 0.006851064322585163, 'LLY': 0.017433797615941826, 'PG': 0.015405188310308165}\n"
     ]
    },
    {
     "name": "stderr",
     "output_type": "stream",
     "text": [
      "/opt/homebrew/lib/python3.10/site-packages/pypfopt/efficient_frontier/efficient_frontier.py:259: UserWarning: max_sharpe transforms the optimization problem so additional objectives may not work as expected.\n",
      "  warnings.warn(\n"
     ]
    },
    {
     "name": "stdout",
     "output_type": "stream",
     "text": [
      "[*********************100%***********************]  1 of 1 completed\n",
      "OrderedDict([('AAPL', 0.0), ('AMZN', 0.08023), ('BRK-B', 0.0), ('GOOGL', 0.0), ('JNJ', 0.0), ('JPM', 0.0), ('LLY', 0.0), ('META', 0.21625), ('MSFT', 0.0), ('NVDA', 0.27525), ('PG', 0.0), ('TSLA', 0.42827), ('UNH', 0.0), ('V', 0.0), ('XOM', 0.0)])\n",
      "Expected annual return: 0.05397066389595893\n",
      "Annual volatility: 0.4518205661514807\n",
      "Sharpe ratio: 0.07518618327915971\n"
     ]
    },
    {
     "name": "stderr",
     "output_type": "stream",
     "text": [
      "/opt/homebrew/lib/python3.10/site-packages/pypfopt/efficient_frontier/efficient_frontier.py:259: UserWarning: max_sharpe transforms the optimization problem so additional objectives may not work as expected.\n",
      "  warnings.warn(\n"
     ]
    }
   ],
   "source": [
    "reg_models = [RandomForestRegressor(), GradientBoostingRegressor(), MLPRegressor(hidden_layer_sizes=(100, 100)), SVR()]\n",
    "\n",
    "for reg_model in reg_models:\n",
    "    print(\"----------------------------------------------------\")\n",
    "    print(f\"Non-linear regression model: {reg_model}\")\n",
    "    \n",
    "    # Using a non-linear ML model to predict stock prices in future\n",
    "    returns = {}\n",
    "    future_returns = {}\n",
    "    for ticker in tickers:\n",
    "        stock_returns = ((portfolio_data[ticker] / portfolio_data[ticker].shift(1))-1).dropna().tolist()\n",
    "        returns[ticker] = stock_returns\n",
    "        future_returns[ticker] = forecast_price(stock_returns, reg_model) \n",
    "\n",
    "    # Using the predicted future return of stocks as \"views\" for black litterman model\n",
    "    viewdict = {key: value[-1] for key, value in future_returns.items()}\n",
    "    print(f\"Views: {viewdict}\")\n",
    "\n",
    "    # Obtain market caps for all stocks in portfolio\n",
    "    mcaps = {}\n",
    "    for t in tickers:\n",
    "        stock = yf.Ticker(t)\n",
    "        mcaps[t] = stock.info[\"marketCap\"]\n",
    "\n",
    "    # Determine prior estimate of returns implied by the market weights\n",
    "    S = risk_models.CovarianceShrinkage(portfolio_data).ledoit_wolf()\n",
    "    market_prices = yf.download(\"SPY\", period=\"max\")[\"Adj Close\"]\n",
    "    delta = black_litterman.market_implied_risk_aversion(market_prices)\n",
    "    market_prior = black_litterman.market_implied_prior_returns(mcaps, delta, S)\n",
    "\n",
    "    # Assign confidence measure for stock returns based on some heuristics\n",
    "    confidences = [\n",
    "        0.8,\n",
    "        0.6,\n",
    "        0.7,\n",
    "        0.5,\n",
    "        0.5,\n",
    "        0.7,\n",
    "        0.3,\n",
    "        0.3,\n",
    "        0.4,\n",
    "        0.7,\n",
    "        0.8,\n",
    "        0.5,\n",
    "        0.8,\n",
    "        0.8,\n",
    "        0.5\n",
    "    ]\n",
    "\n",
    "    # Fit the Black litterman model and calculate corresponding cov matrix and returns\n",
    "    bl = BlackLittermanModel(S, pi=market_prior, absolute_views=viewdict, omega=\"idzorek\", view_confidences=confidences)\n",
    "    ret_bl = bl.bl_returns()\n",
    "    S_bl = bl.bl_cov()\n",
    "\n",
    "    # Find the optimal weights using bl cov matrix and returns\n",
    "    ef = EfficientFrontier(ret_bl, S_bl)\n",
    "    ef.add_objective(objective_functions.L2_reg)\n",
    "    ef.max_sharpe()\n",
    "    weights = ef.clean_weights()\n",
    "    print(weights)\n",
    "\n",
    "    ret, volatility, sharpe_ratio = ef.portfolio_performance()\n",
    "    print(\"Expected annual return:\", ret)\n",
    "    print(\"Annual volatility:\", volatility)\n",
    "    print(\"Sharpe ratio:\", sharpe_ratio)"
   ]
  },
  {
   "cell_type": "code",
   "execution_count": null,
   "id": "57d2853f",
   "metadata": {},
   "outputs": [],
   "source": []
  }
 ],
 "metadata": {
  "kernelspec": {
   "display_name": "Python 3 (ipykernel)",
   "language": "python",
   "name": "python3"
  },
  "language_info": {
   "codemirror_mode": {
    "name": "ipython",
    "version": 3
   },
   "file_extension": ".py",
   "mimetype": "text/x-python",
   "name": "python",
   "nbconvert_exporter": "python",
   "pygments_lexer": "ipython3",
   "version": "3.10.9"
  }
 },
 "nbformat": 4,
 "nbformat_minor": 5
}
