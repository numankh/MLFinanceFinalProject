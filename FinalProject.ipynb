{
 "cells": [
  {
   "cell_type": "markdown",
   "id": "1c3d512f",
   "metadata": {},
   "source": [
    "# Final Project"
   ]
  },
  {
   "cell_type": "markdown",
   "id": "576833bf",
   "metadata": {},
   "source": [
    "## Notes"
   ]
  },
  {
   "cell_type": "code",
   "execution_count": 1,
   "id": "e3698336",
   "metadata": {},
   "outputs": [
    {
     "data": {
      "text/plain": [
       "'\\nUsing the following machine learning models for making predictions for the following portfolio optimization models:\\n- Mean-variance optimization (chapter 7 of Bodie, Investment book)\\n- Index model (chapter 8 of Bodie, Investment book)\\n- Capital asset pricing model (chapter 9 of Bodie, Investment book)\\n- Arbitrage pricing theory and multifactor model (chapter 10 of Bodie,\\nInvestment book)\\n- Equity valuation model (chapter 18 of Bodie, Investment book)\\n- Black Litterman model (chapter 24 of Bodie, Investment book)\\n- Algorithmic trading (this could be restricted to the last month)\\n'"
      ]
     },
     "execution_count": 1,
     "metadata": {},
     "output_type": "execute_result"
    }
   ],
   "source": [
    "'''\n",
    "Using the following machine learning models for making predictions for the following portfolio optimization models:\n",
    "- Mean-variance optimization (chapter 7 of Bodie, Investment book)\n",
    "- Index model (chapter 8 of Bodie, Investment book)\n",
    "- Capital asset pricing model (chapter 9 of Bodie, Investment book)\n",
    "- Arbitrage pricing theory and multifactor model (chapter 10 of Bodie,\n",
    "Investment book)\n",
    "- Equity valuation model (chapter 18 of Bodie, Investment book)\n",
    "- Black Litterman model (chapter 24 of Bodie, Investment book)\n",
    "- Algorithmic trading (this could be restricted to the last month)\n",
    "'''"
   ]
  },
  {
   "cell_type": "markdown",
   "id": "5455474e",
   "metadata": {},
   "source": [
    "## Load Data"
   ]
  },
  {
   "cell_type": "code",
   "execution_count": 2,
   "id": "40e998cb",
   "metadata": {},
   "outputs": [
    {
     "name": "stdout",
     "output_type": "stream",
     "text": [
      "[*********************100%***********************]  10 of 10 completed\n"
     ]
    },
    {
     "data": {
      "text/html": [
       "<div>\n",
       "<style scoped>\n",
       "    .dataframe tbody tr th:only-of-type {\n",
       "        vertical-align: middle;\n",
       "    }\n",
       "\n",
       "    .dataframe tbody tr th {\n",
       "        vertical-align: top;\n",
       "    }\n",
       "\n",
       "    .dataframe thead th {\n",
       "        text-align: right;\n",
       "    }\n",
       "</style>\n",
       "<table border=\"1\" class=\"dataframe\">\n",
       "  <thead>\n",
       "    <tr style=\"text-align: right;\">\n",
       "      <th></th>\n",
       "      <th>AAPL</th>\n",
       "      <th>AMZN</th>\n",
       "      <th>BRK-B</th>\n",
       "      <th>GOOGL</th>\n",
       "      <th>META</th>\n",
       "      <th>MSFT</th>\n",
       "      <th>NVDA</th>\n",
       "      <th>TSLA</th>\n",
       "      <th>UNH</th>\n",
       "      <th>XOM</th>\n",
       "    </tr>\n",
       "    <tr>\n",
       "      <th>Date</th>\n",
       "      <th></th>\n",
       "      <th></th>\n",
       "      <th></th>\n",
       "      <th></th>\n",
       "      <th></th>\n",
       "      <th></th>\n",
       "      <th></th>\n",
       "      <th></th>\n",
       "      <th></th>\n",
       "      <th></th>\n",
       "    </tr>\n",
       "  </thead>\n",
       "  <tbody>\n",
       "    <tr>\n",
       "      <th>2023-06-26</th>\n",
       "      <td>185.270004</td>\n",
       "      <td>127.330002</td>\n",
       "      <td>334.119995</td>\n",
       "      <td>118.339996</td>\n",
       "      <td>278.470001</td>\n",
       "      <td>328.600006</td>\n",
       "      <td>406.320007</td>\n",
       "      <td>241.050003</td>\n",
       "      <td>479.059998</td>\n",
       "      <td>104.290001</td>\n",
       "    </tr>\n",
       "    <tr>\n",
       "      <th>2023-06-27</th>\n",
       "      <td>188.059998</td>\n",
       "      <td>129.179993</td>\n",
       "      <td>335.339996</td>\n",
       "      <td>118.330002</td>\n",
       "      <td>287.049988</td>\n",
       "      <td>334.570007</td>\n",
       "      <td>418.760010</td>\n",
       "      <td>250.210007</td>\n",
       "      <td>482.559998</td>\n",
       "      <td>104.550003</td>\n",
       "    </tr>\n",
       "    <tr>\n",
       "      <th>2023-06-28</th>\n",
       "      <td>189.250000</td>\n",
       "      <td>129.039993</td>\n",
       "      <td>334.149994</td>\n",
       "      <td>120.180000</td>\n",
       "      <td>285.290009</td>\n",
       "      <td>335.850006</td>\n",
       "      <td>411.170013</td>\n",
       "      <td>256.239990</td>\n",
       "      <td>474.450012</td>\n",
       "      <td>105.400002</td>\n",
       "    </tr>\n",
       "    <tr>\n",
       "      <th>2023-06-29</th>\n",
       "      <td>189.589996</td>\n",
       "      <td>127.900002</td>\n",
       "      <td>336.910004</td>\n",
       "      <td>119.099998</td>\n",
       "      <td>281.529999</td>\n",
       "      <td>335.049988</td>\n",
       "      <td>408.220001</td>\n",
       "      <td>257.500000</td>\n",
       "      <td>476.440002</td>\n",
       "      <td>106.699997</td>\n",
       "    </tr>\n",
       "    <tr>\n",
       "      <th>2023-06-30</th>\n",
       "      <td>193.970001</td>\n",
       "      <td>130.360001</td>\n",
       "      <td>341.000000</td>\n",
       "      <td>119.699997</td>\n",
       "      <td>286.980011</td>\n",
       "      <td>340.540009</td>\n",
       "      <td>423.019989</td>\n",
       "      <td>261.769989</td>\n",
       "      <td>480.640015</td>\n",
       "      <td>107.250000</td>\n",
       "    </tr>\n",
       "  </tbody>\n",
       "</table>\n",
       "</div>"
      ],
      "text/plain": [
       "                  AAPL        AMZN       BRK-B       GOOGL        META  \\\n",
       "Date                                                                     \n",
       "2023-06-26  185.270004  127.330002  334.119995  118.339996  278.470001   \n",
       "2023-06-27  188.059998  129.179993  335.339996  118.330002  287.049988   \n",
       "2023-06-28  189.250000  129.039993  334.149994  120.180000  285.290009   \n",
       "2023-06-29  189.589996  127.900002  336.910004  119.099998  281.529999   \n",
       "2023-06-30  193.970001  130.360001  341.000000  119.699997  286.980011   \n",
       "\n",
       "                  MSFT        NVDA        TSLA         UNH         XOM  \n",
       "Date                                                                    \n",
       "2023-06-26  328.600006  406.320007  241.050003  479.059998  104.290001  \n",
       "2023-06-27  334.570007  418.760010  250.210007  482.559998  104.550003  \n",
       "2023-06-28  335.850006  411.170013  256.239990  474.450012  105.400002  \n",
       "2023-06-29  335.049988  408.220001  257.500000  476.440002  106.699997  \n",
       "2023-06-30  340.540009  423.019989  261.769989  480.640015  107.250000  "
      ]
     },
     "execution_count": 2,
     "metadata": {},
     "output_type": "execute_result"
    }
   ],
   "source": [
    "import yfinance as yf\n",
    "from pypfopt import plotting\n",
    "import numpy as np\n",
    "import pandas as pd\n",
    "from sklearn.linear_model import LinearRegression\n",
    "from sklearn.neural_network import MLPRegressor\n",
    "from sklearn.ensemble import RandomForestRegressor\n",
    "from pypfopt import expected_returns, risk_models, EfficientFrontier\n",
    "from sklearn.svm import SVR\n",
    "\n",
    "tickers = [\"AAPL\", \"AMZN\", \"BRK-B\", \"GOOGL\", \"META\", \"MSFT\", \"NVDA\", \"TSLA\", \"UNH\", \"XOM\"]\n",
    "portfolio_data = yf.download(tickers, period=\"5y\")\n",
    "portfolio_data = portfolio_data[\"Adj Close\"]\n",
    "portfolio_data.tail()"
   ]
  },
  {
   "cell_type": "code",
   "execution_count": 3,
   "id": "937b3971",
   "metadata": {},
   "outputs": [
    {
     "name": "stdout",
     "output_type": "stream",
     "text": [
      "[*********************100%***********************]  1 of 1 completed\n"
     ]
    },
    {
     "data": {
      "text/plain": [
       "Date\n",
       "2023-06-26    4328.819824\n",
       "2023-06-27    4378.410156\n",
       "2023-06-28    4376.859863\n",
       "2023-06-29    4396.439941\n",
       "2023-06-30    4450.379883\n",
       "Name: Adj Close, dtype: float64"
      ]
     },
     "execution_count": 3,
     "metadata": {},
     "output_type": "execute_result"
    }
   ],
   "source": [
    "market_index_ticker = \"^GSPC\"  # S&P 500 index\n",
    "market_index_data = yf.download(market_index_ticker, period=\"5y\")\n",
    "market_index_data = market_index_data[\"Adj Close\"]\n",
    "market_index_data.tail()"
   ]
  },
  {
   "cell_type": "markdown",
   "id": "12c777d4",
   "metadata": {},
   "source": [
    "## Mean Variance Optimization"
   ]
  },
  {
   "cell_type": "markdown",
   "id": "0515cab1",
   "metadata": {},
   "source": [
    "### Random Forest "
   ]
  },
  {
   "cell_type": "code",
   "execution_count": null,
   "id": "88edd1a8",
   "metadata": {},
   "outputs": [],
   "source": [
    "future_prices = {}\n",
    "for ticker in tickers:\n",
    "    data = portfolio_data[ticker].tolist()\n",
    "    # Dependent variable - 10 consecutive days of stock prices\n",
    "    dev_x = [data[i:i+10] for i in range(len(data)-20)]\n",
    "    \n",
    "    # Independent variable - stock price 10th day into the future\n",
    "    dev_y = [data[i+10] for i in range(10,len(data)-10)]\n",
    "    \n",
    "    test = [data[i:i+10] for i in range(len(data)-20,len(data)-10)]\n",
    "    \n",
    "    reg = RandomForestRegressor()\n",
    "    reg.fit(dev_x,dev_y)\n",
    "    \n",
    "    # Predict stock price for 10 future days\n",
    "    pred = reg.predict(test)\n",
    "    future_prices[ticker] = pred\n",
    "\n",
    "future_prices = pd.DataFrame(future_prices)\n",
    "# Construct covariance matrix of future stock prices\n",
    "S = risk_models.CovarianceShrinkage(future_prices).ledoit_wolf()\n",
    "\n",
    "# Use capm to find expected returns on future prices\n",
    "mu = expected_returns.capm_return(future_prices)\n",
    "print(mu)\n",
    "\n",
    "# Do mean variance optimization using efficient frontier\n",
    "ef = EfficientFrontier(mu, S)\n",
    "ef.min_volatility()\n",
    "weights = ef.clean_weights()\n",
    "print(weights)\n",
    "# weights = ef.max_sharpe(risk_free_rate=0.02)\n",
    "# cleaned_weights = ef.clean_weights()\n",
    "# print(cleaned_weights)\n",
    "\n",
    "ret, volatility, sharpe_ratio = ef.portfolio_performance()\n",
    "print(\"Expected annual return:\", ret)\n",
    "print(\"Annual volatility:\", volatility)\n",
    "print(\"Sharpe ratio:\", sharpe_ratio)\n"
   ]
  },
  {
   "cell_type": "markdown",
   "id": "eefd90b9",
   "metadata": {},
   "source": [
    "### SVM"
   ]
  },
  {
   "cell_type": "code",
   "execution_count": null,
   "id": "13084abd",
   "metadata": {},
   "outputs": [],
   "source": [
    "future_prices = {}\n",
    "for ticker in tickers:\n",
    "    data = portfolio_data[ticker].tolist()\n",
    "    dev_x = [data[i:i+10] for i in range(len(data)-20)]\n",
    "    dev_y = [data[i+10] for i in range(10, len(data)-10)]\n",
    "    test = [data[i:i+10] for i in range(len(data)-20, len(data)-10)]\n",
    "    \n",
    "    reg = SVR()\n",
    "    reg.fit(dev_x, dev_y)\n",
    "    \n",
    "    pred = reg.predict(test)\n",
    "    future_prices[ticker] = pred\n",
    "\n",
    "future_prices = pd.DataFrame(future_prices)\n",
    "\n",
    "S = risk_models.CovarianceShrinkage(future_prices).ledoit_wolf()\n",
    "mu = expected_returns.capm_return(future_prices)\n",
    "print(mu)\n",
    "\n",
    "ef = EfficientFrontier(mu, S)\n",
    "ef.min_volatility()\n",
    "weights = ef.clean_weights()\n",
    "print(weights)\n",
    "\n",
    "\n",
    "ret, volatility, sharpe_ratio = ef.portfolio_performance()\n",
    "print(\"Expected annual return:\", ret)\n",
    "print(\"Annual volatility:\", volatility)\n",
    "print(\"Sharpe ratio:\", sharpe_ratio)\n"
   ]
  },
  {
   "cell_type": "markdown",
   "id": "894acc7c",
   "metadata": {},
   "source": [
    "### Neural Network"
   ]
  },
  {
   "cell_type": "code",
   "execution_count": null,
   "id": "4fbad704",
   "metadata": {},
   "outputs": [],
   "source": [
    "future_prices = {}\n",
    "for ticker in tickers:\n",
    "    data = portfolio_data[ticker].tolist()\n",
    "    dev_x = [data[i:i+10] for i in range(len(data)-20)]\n",
    "    dev_y = [data[i+10] for i in range(10, len(data)-10)]\n",
    "    test = [data[i:i+10] for i in range(len(data)-20, len(data)-10)]\n",
    "    \n",
    "    reg = MLPRegressor(hidden_layer_sizes=(100,100), random_state=42)  # You can adjust the hidden_layer_sizes and other parameters as needed\n",
    "    reg.fit(dev_x, dev_y)\n",
    "    \n",
    "    pred = reg.predict(test)\n",
    "    future_prices[ticker] = pred\n",
    "\n",
    "future_prices = pd.DataFrame(future_prices)\n",
    "\n",
    "S = risk_models.CovarianceShrinkage(future_prices).ledoit_wolf()\n",
    "mu = expected_returns.capm_return(future_prices)\n",
    "print(mu)\n",
    "\n",
    "ef = EfficientFrontier(mu, S)\n",
    "ef.min_volatility()\n",
    "weights = ef.clean_weights()\n",
    "print(weights)\n",
    "\n",
    "ret, volatility, sharpe_ratio = ef.portfolio_performance()\n",
    "print(\"Expected annual return:\", ret)\n",
    "print(\"Annual volatility:\", volatility)\n",
    "print(\"Sharpe ratio:\", sharpe_ratio)\n",
    "\n"
   ]
  },
  {
   "cell_type": "markdown",
   "id": "69e43441",
   "metadata": {},
   "source": [
    "## Index model"
   ]
  },
  {
   "cell_type": "code",
   "execution_count": 4,
   "id": "2950f92e",
   "metadata": {},
   "outputs": [],
   "source": [
    "import numpy as np\n",
    "from sklearn.linear_model import LinearRegression\n",
    "\n",
    "class PortfolioOptimization:\n",
    "    def __init__(self, market_index_data, portfolio_data, tickers):\n",
    "        self.market_index_data = market_index_data\n",
    "        self.portfolio_data = portfolio_data\n",
    "        self.tickers = tickers\n",
    "        \n",
    "    def __init__(self, tickers, returns, market_future, reg_model):\n",
    "        self.tickers = tickers\n",
    "        self.returns = returns\n",
    "        self.market_future = market_future\n",
    "        self.reg_model = reg_model\n",
    "        \n",
    "        self.beta = {}\n",
    "        self.alpha = {}\n",
    "        self.residual_variance = {}\n",
    "        self.weights = {}\n",
    "        self.final_weight_market = None\n",
    "        self.alpha_portfolio = None\n",
    "        self.residual_variance_portfolio = None\n",
    "        self.initial_position_portfolio = None\n",
    "        self.beta_portfolio = None\n",
    "        self.adjusted_position_portfolio = None\n",
    "        self.risk_premium_portfolio = None\n",
    "        self.portfolio_variance = None\n",
    "        self.sharpe_ratio = None\n",
    "        \n",
    "    def calculate_returns(self):\n",
    "        self.returns = {\"MARKET\": ((self.market_index_data / self.market_index_data.shift(1)) - 1).dropna().tolist()}\n",
    "        for ticker in self.tickers:\n",
    "            self.returns[ticker] = ((self.portfolio_data[ticker] / self.portfolio_data[ticker].shift(1)) - 1).dropna().tolist()\n",
    "\n",
    "    def predict_market_returns(self):\n",
    "        market_x = [self.returns[\"MARKET\"][i:i+10] for i in range(len(self.returns[\"MARKET\"])-20)]\n",
    "        market_y = [self.returns[\"MARKET\"][i+10] for i in range(10, len(self.returns[\"MARKET\"])-10)]\n",
    "\n",
    "        market_test = [self.returns[\"MARKET\"][i:i+10] for i in range(len(self.returns[\"MARKET\"])-20, len(self.returns[\"MARKET\"])-10)]\n",
    "\n",
    "        reg = SVR()\n",
    "        reg.fit(market_x, market_y)\n",
    "        \n",
    "        market_future = reg.predict(market_test)\n",
    "        return market_future\n",
    "\n",
    "    def fit_single_index_model(self):\n",
    "        for ticker in self.tickers:\n",
    "            # ----\n",
    "            stock_x = [returns[ticker][i:i+10] for i in range(len(returns[ticker])-20)]\n",
    "            stock_y = [returns[ticker][i+10] for i in range(10, len(returns[ticker])-10)]\n",
    "\n",
    "            stock_test = [returns[ticker][i:i+10]\n",
    "                          for i in range(len(returns[ticker])-20, len(returns[ticker])-10)]\n",
    "\n",
    "            reg = self.reg_model\n",
    "            reg.fit(stock_x, stock_y)\n",
    "            stock_future = reg.predict(stock_test)\n",
    "            # ----\n",
    "\n",
    "            single_index_reg = LinearRegression()\n",
    "#             single_index_reg.fit(np.array(self.returns[\"MARKET\"]).reshape(-1, 1), y=self.returns[ticker])\n",
    "            single_index_reg.fit(np.array(market_future).reshape(-1, 1),y=stock_future)\n",
    "            \n",
    "#             stock_future = single_index_reg.predict(np.array(self.market_future).reshape(-1, 1))\n",
    "\n",
    "            self.beta[ticker] = single_index_reg.coef_[0]\n",
    "            self.alpha[ticker] = single_index_reg.intercept_\n",
    "\n",
    "            y_pred = single_index_reg.predict(np.array(self.returns[\"MARKET\"]).reshape(-1, 1))\n",
    "            residuals = self.returns[ticker] - y_pred\n",
    "            self.residual_variance[ticker] = np.var(residuals)\n",
    "\n",
    "    def treynor_black_optimization(self, residual_variance_market=0.0114, risk_premium_market=0.056):\n",
    "        # STEP 1:\n",
    "        # Compute the initial position of each security:\n",
    "        self.weights = {ticker: self.alpha[ticker] / self.residual_variance[ticker] for ticker in self.tickers}\n",
    "#         print(f\"Weights: {self.weights}\\n\")\n",
    "\n",
    "        # STEP 2:\n",
    "        # Scale the initial positions:\n",
    "        total_weight = sum(self.weights.values())\n",
    "        self.weights = {ticker: weight / total_weight for ticker, weight in self.weights.items()}\n",
    "#         print(f\"Scaled weights: {self.weights}\\n\")\n",
    "\n",
    "        # STEP 3:\n",
    "        # Compute the alpha of the active portfolio:\n",
    "        self.alpha_portfolio = sum(self.weights[ticker] * self.alpha[ticker] for ticker in self.tickers)\n",
    "#         print(f\"Alpha of the active portfolio: {self.alpha_portfolio}\\n\")\n",
    "\n",
    "        # STEP 4:\n",
    "        # Compute the residual variance of the active portfolio:\n",
    "        self.residual_variance_portfolio = sum((self.weights[ticker] ** 2) * self.residual_variance[ticker] for ticker in self.tickers)\n",
    "#         print(f\"Residual variance of the active portfolio: {self.residual_variance_portfolio}\\n\")\n",
    "\n",
    "        # STEP 5:\n",
    "        # Compute the initial position in the active portfolio:\n",
    "        self.initial_position_portfolio = (self.alpha_portfolio * residual_variance_market) / (self.residual_variance_portfolio * risk_premium_market)\n",
    "#         print(f\"Initial position of the active portfolio: {self.initial_position_portfolio}\\n\")\n",
    "\n",
    "        # STEP 6:\n",
    "        # Compute the beta of the active portfolio:\n",
    "        self.beta_portfolio = sum(self.weights[ticker] * self.beta[ticker] for ticker in self.tickers)\n",
    "#         print(f\"Beta of the active portfolio: {self.beta_portfolio}\\n\")\n",
    "\n",
    "        # STEP 7:\n",
    "        # Adjust the initial position in the active portfolio\n",
    "        self.adjusted_position_portfolio = self.initial_position_portfolio / (1 + (1 - self.beta_portfolio) * self.initial_position_portfolio)\n",
    "#         print(f\"Adjusted position of the active portfolio: {self.adjusted_position_portfolio}\")\n",
    "\n",
    "        # STEP 8:\n",
    "        # Optimal risky portfolio now has weights:\n",
    "        self.final_weight_market = 1 - self.adjusted_position_portfolio\n",
    "        self.weights = {ticker: weight * self.adjusted_position_portfolio for ticker, weight in self.weights.items()}\n",
    "\n",
    "        print(\"------------------------------\")\n",
    "        print(\"Final Weights:\")\n",
    "        print(\"Weight Market S&P:\", self.final_weight_market)\n",
    "        print(f\"Weights: {self.weights}\")\n",
    "        print(\"------------------------------\")\n",
    "\n",
    "        # STEP 9:\n",
    "        # Calculate the risk premium of P (Optimal risky portfolio):\n",
    "        self.risk_premium_portfolio = (self.final_weight_market + self.adjusted_position_portfolio * self.beta_portfolio) * risk_premium_market + self.adjusted_position_portfolio * self.alpha_portfolio\n",
    "        print(\"Risk premium of portfolio: \", self.risk_premium_portfolio)\n",
    "\n",
    "        # STEP 10:\n",
    "        # Compute the variance of Portfolio:\n",
    "        self.portfolio_variance = (self.final_weight_market + self.adjusted_position_portfolio * self.beta_portfolio) * (self.final_weight_market + self.adjusted_position_portfolio * self.beta_portfolio) * residual_variance_market + self.adjusted_position_portfolio * self.adjusted_position_portfolio * self.residual_variance_portfolio\n",
    "        print(\"Variance of portfolio: \", self.portfolio_variance)\n",
    "\n",
    "        self.sharpe_ratio = self.risk_premium_portfolio / (self.portfolio_variance ** 0.5)\n",
    "        print(f\"Sharpe ratio: {self.sharpe_ratio}\")\n",
    "\n",
    "\n"
   ]
  },
  {
   "cell_type": "markdown",
   "id": "aff36924",
   "metadata": {},
   "source": [
    "### Random Forest for predicting market index values"
   ]
  },
  {
   "cell_type": "code",
   "execution_count": 5,
   "id": "7e0bf479",
   "metadata": {},
   "outputs": [
    {
     "data": {
      "text/plain": [
       "array([ 1.78002498e-03,  4.36629644e-04,  8.27775954e-04, -4.20436682e-04,\n",
       "        8.51831463e-04, -4.85635086e-04, -1.18126292e-04, -9.21207259e-04,\n",
       "       -4.63660953e-05,  8.54627324e-04])"
      ]
     },
     "execution_count": 5,
     "metadata": {},
     "output_type": "execute_result"
    }
   ],
   "source": [
    "# Returns of stocks and market\n",
    "returns = {\"MARKET\": ((market_index_data / market_index_data.shift(1)) - 1).dropna().tolist()}\n",
    "for ticker in tickers:\n",
    "    returns[ticker] = ((portfolio_data[ticker] / portfolio_data[ticker].shift(1))-1).dropna().tolist()\n",
    "    \n",
    "# Future marker returns prediction\n",
    "market_x = [returns[\"MARKET\"][i:i+10] for i in range(len(returns[\"MARKET\"])-20)]\n",
    "market_y = [returns[\"MARKET\"][i+10] for i in range(10, len(returns[\"MARKET\"])-10)]\n",
    "\n",
    "market_test = [returns[\"MARKET\"][i:i+10]\n",
    "              for i in range(len(returns[\"MARKET\"])-20, len(returns[\"MARKET\"])-10)]\n",
    "\n",
    "reg = RandomForestRegressor()\n",
    "reg.fit(market_x, market_y)\n",
    "market_future = reg.predict(market_test)\n",
    "market_future"
   ]
  },
  {
   "cell_type": "code",
   "execution_count": 6,
   "id": "e0e14c88",
   "metadata": {},
   "outputs": [
    {
     "name": "stdout",
     "output_type": "stream",
     "text": [
      "------------------------------\n",
      "Final Weights:\n",
      "Weight Market S&P: 0.47954334562627976\n",
      "Weights: {'AAPL': 0.3573357364553992, 'AMZN': -0.10203202924791738, 'BRK-B': 0.07716448628194651, 'GOOGL': 0.14402914006837308, 'META': 0.008439606243815984, 'MSFT': 0.04329624350829634, 'NVDA': 0.08534865982351693, 'TSLA': 0.0011975966775863434, 'UNH': -0.05344247173663607, 'XOM': -0.040880313700660725}\n",
      "------------------------------\n",
      "Risk premium of portfolio:  0.01618942233441617\n",
      "Variance of portfolio:  0.0008563501548866818\n",
      "Sharpe ratio: 0.5532299233291206\n"
     ]
    }
   ],
   "source": [
    "rf_portfolio = PortfolioOptimization(tickers, returns, market_future, RandomForestRegressor())\n",
    "rf_portfolio.fit_single_index_model()\n",
    "rf_portfolio.treynor_black_optimization()\n"
   ]
  },
  {
   "cell_type": "markdown",
   "id": "0309f1ed",
   "metadata": {},
   "source": [
    "### SVM"
   ]
  },
  {
   "cell_type": "code",
   "execution_count": 7,
   "id": "73bbe631",
   "metadata": {},
   "outputs": [
    {
     "data": {
      "text/plain": [
       "array([-0.01122951, -0.01081277, -0.01130069, -0.01112012, -0.01126922,\n",
       "       -0.01098801, -0.01194405, -0.01175388, -0.01087088, -0.01175548])"
      ]
     },
     "execution_count": 7,
     "metadata": {},
     "output_type": "execute_result"
    }
   ],
   "source": [
    "# Returns of stocks and market\n",
    "returns = {\"MARKET\": ((market_index_data / market_index_data.shift(1)) - 1).dropna().tolist()}\n",
    "for ticker in tickers:\n",
    "    returns[ticker] = ((portfolio_data[ticker] / portfolio_data[ticker].shift(1))-1).dropna().tolist()\n",
    "    \n",
    "# Future marker returns prediction\n",
    "market_x = [returns[\"MARKET\"][i:i+10] for i in range(len(returns[\"MARKET\"])-20)]\n",
    "market_y = [returns[\"MARKET\"][i+10] for i in range(10, len(returns[\"MARKET\"])-10)]\n",
    "\n",
    "market_test = [returns[\"MARKET\"][i:i+10]\n",
    "              for i in range(len(returns[\"MARKET\"])-20, len(returns[\"MARKET\"])-10)]\n",
    "\n",
    "reg = SVR()\n",
    "reg.fit(market_x, market_y)\n",
    "    \n",
    "market_future = reg.predict(market_test)\n",
    "market_future"
   ]
  },
  {
   "cell_type": "code",
   "execution_count": 8,
   "id": "ed656544",
   "metadata": {},
   "outputs": [
    {
     "name": "stdout",
     "output_type": "stream",
     "text": [
      "------------------------------\n",
      "Final Weights:\n",
      "Weight Market S&P: 1.2760004299542536\n",
      "Weights: {'AAPL': -0.09460889772480476, 'AMZN': 0.004028195545082886, 'BRK-B': -0.1129930862822095, 'GOOGL': -0.04570023927430623, 'META': 0.0024355674427593726, 'MSFT': -0.0747398611365536, 'NVDA': 0.0052622322702609685, 'TSLA': -0.009641218857108119, 'UNH': 0.03159037005430083, 'XOM': 0.01836650800832463}\n",
      "------------------------------\n",
      "Risk premium of portfolio:  -0.016077491156492072\n",
      "Variance of portfolio:  4.4037142329353976e-05\n",
      "Sharpe ratio: -2.4227506287041973\n"
     ]
    }
   ],
   "source": [
    "svm_portfolio = PortfolioOptimization(tickers, returns, market_future, SVR())\n",
    "svm_portfolio.fit_single_index_model()\n",
    "svm_portfolio.treynor_black_optimization()\n"
   ]
  },
  {
   "cell_type": "markdown",
   "id": "e8e38880",
   "metadata": {},
   "source": [
    "### Neural Network"
   ]
  },
  {
   "cell_type": "code",
   "execution_count": 9,
   "id": "3642b81e",
   "metadata": {},
   "outputs": [
    {
     "data": {
      "text/plain": [
       "array([0.00183817, 0.00027691, 0.0006559 , 0.00202799, 0.00094487,\n",
       "       0.00223394, 0.00027415, 0.00286747, 0.00042036, 0.00108245])"
      ]
     },
     "execution_count": 9,
     "metadata": {},
     "output_type": "execute_result"
    }
   ],
   "source": [
    "# Returns of stocks and market\n",
    "returns = {\"MARKET\": ((market_index_data / market_index_data.shift(1)) - 1).dropna().tolist()}\n",
    "for ticker in tickers:\n",
    "    returns[ticker] = ((portfolio_data[ticker] / portfolio_data[ticker].shift(1))-1).dropna().tolist()\n",
    "    \n",
    "# Future marker returns prediction\n",
    "market_x = [returns[\"MARKET\"][i:i+10] for i in range(len(returns[\"MARKET\"])-20)]\n",
    "market_y = [returns[\"MARKET\"][i+10] for i in range(10, len(returns[\"MARKET\"])-10)]\n",
    "market_test = [returns[\"MARKET\"][i:i+10]\n",
    "              for i in range(len(returns[\"MARKET\"])-20, len(returns[\"MARKET\"])-10)]\n",
    "\n",
    "reg = MLPRegressor(hidden_layer_sizes=(100,100))\n",
    "reg.fit(market_x, market_y)\n",
    "market_future = reg.predict(market_test)\n",
    "market_future"
   ]
  },
  {
   "cell_type": "code",
   "execution_count": 10,
   "id": "19c227c5",
   "metadata": {},
   "outputs": [
    {
     "name": "stdout",
     "output_type": "stream",
     "text": [
      "------------------------------\n",
      "Final Weights:\n",
      "Weight Market S&P: 1.051494906530617\n",
      "Weights: {'AAPL': -0.14202002240947748, 'AMZN': -0.3593979897316505, 'BRK-B': -0.13676511352586224, 'GOOGL': -0.4904384619130814, 'META': 0.9420563005363616, 'MSFT': -0.19173132031604043, 'NVDA': 0.320883396549968, 'TSLA': 0.0006030174029592947, 'UNH': -0.12844721722204633, 'XOM': 0.13376250409825235}\n",
      "------------------------------\n",
      "Risk premium of portfolio:  0.02800470953700804\n",
      "Variance of portfolio:  0.0016902980545377448\n",
      "Sharpe ratio: 0.6811604547468092\n"
     ]
    }
   ],
   "source": [
    "nn_portfolio = PortfolioOptimization(tickers, returns, market_future, MLPRegressor(hidden_layer_sizes=(100,100)))\n",
    "nn_portfolio.fit_single_index_model()\n",
    "nn_portfolio.treynor_black_optimization()\n"
   ]
  },
  {
   "cell_type": "code",
   "execution_count": 11,
   "id": "5840faf4",
   "metadata": {},
   "outputs": [],
   "source": [
    "class SingleIndexModel:\n",
    "    def __init__(self, tickers, market_index_data, portfolio_data, reg_model):\n",
    "        self.tickers = tickers\n",
    "        self.market_index_data = market_index_data\n",
    "        self.portfolio_data = portfolio_data\n",
    "        self.reg_model = reg_model\n",
    "        self.returns = {}\n",
    "        self.beta = {}\n",
    "        self.alpha = {}\n",
    "        self.residual_variance = {}\n",
    "\n",
    "    def calculate_returns(self):\n",
    "        # Returns of stocks and market\n",
    "        self.returns = {\"MARKET\": ((self.market_index_data / self.market_index_data.shift(1)) - 1).dropna().tolist()}\n",
    "        for ticker in self.tickers:\n",
    "            self.returns[ticker] = ((self.portfolio_data[ticker] / self.portfolio_data[ticker].shift(1))-1).dropna().tolist()\n",
    "\n",
    "    def fit_regression(self):\n",
    "        # Forecast market\n",
    "        market_x = [self.returns[\"MARKET\"][i:i+10] for i in range(len(self.returns[\"MARKET\"])-20)]\n",
    "        market_y = [self.returns[\"MARKET\"][i+10] for i in range(10, len(self.returns[\"MARKET\"])-10)]\n",
    "        market_test = [self.returns[\"MARKET\"][i:i+10] \n",
    "                       for i in range(len(self.returns[\"MARKET\"])-20, len(self.returns[\"MARKET\"])-10)]\n",
    "\n",
    "        reg = self.reg_model\n",
    "        reg.fit(market_x, market_y)\n",
    "        market_future = reg.predict(market_test)\n",
    "\n",
    "        # Forecast each stock\n",
    "        for ticker in self.tickers:\n",
    "            stock_x = [self.returns[ticker][i:i+10] for i in range(len(self.returns[ticker])-20)]\n",
    "            stock_y = [self.returns[ticker][i+10] for i in range(10, len(self.returns[ticker])-10)]\n",
    "            stock_test = [self.returns[ticker][i:i+10]\n",
    "                          for i in range(len(self.returns[ticker])-20, len(self.returns[ticker])-10)]\n",
    "\n",
    "            reg = self.reg_model\n",
    "            reg.fit(stock_x, stock_y)\n",
    "            stock_future = reg.predict(stock_test)\n",
    "\n",
    "            single_index_reg = LinearRegression()\n",
    "            single_index_reg.fit(np.array(market_future).reshape(-1, 1), y=stock_future)\n",
    "\n",
    "            self.beta[ticker] = single_index_reg.coef_[0]\n",
    "            self.alpha[ticker] = single_index_reg.intercept_\n",
    "\n",
    "            y_pred = single_index_reg.predict(np.array(self.returns[\"MARKET\"]).reshape(-1, 1))\n",
    "            residuals = self.returns[ticker] - y_pred\n",
    "            self.residual_variance[ticker] = np.var(residuals)\n",
    "\n",
    "    def optimize_portfolio(self):\n",
    "        # Compute the initial position of each security\n",
    "        weights = {ticker: self.alpha[ticker] / self.residual_variance[ticker] for ticker in self.tickers}\n",
    "        total_weight = sum(weights.values())\n",
    "        weights = {ticker: weight / total_weight for ticker, weight in weights.items()}\n",
    "\n",
    "        # Compute the alpha of the active portfolio\n",
    "        alpha_portfolio = sum(weights[ticker] * self.alpha[ticker] for ticker in self.tickers)\n",
    "\n",
    "        # Compute the residual variance of the active portfolio\n",
    "        residual_variance_portfolio = sum((weights[ticker] ** 2) * self.residual_variance[ticker] for ticker in self.tickers)\n",
    "\n",
    "        # Compute the initial position in the active portfolio\n",
    "        residual_variance_market = 0.0114  # Variance of S&P 500\n",
    "        risk_premium_market = 0.056\n",
    "        initial_position_portfolio = (alpha_portfolio * residual_variance_market) / (residual_variance_portfolio * risk_premium_market)\n",
    "\n",
    "        # Compute the beta of the active portfolio\n",
    "        beta_portfolio = sum(weights[ticker] * self.beta[ticker] for ticker in self.tickers)\n",
    "\n",
    "        # Adjust the initial position in the active portfolio\n",
    "        adjusted_position_portfolio = initial_position_portfolio / (1 + (1 - beta_portfolio) * initial_position_portfolio)\n",
    "\n",
    "        # Optimal risky portfolio now has weights\n",
    "        final_weight_market = 1 - adjusted_position_portfolio\n",
    "        weights = {ticker: weight * adjusted_position_portfolio for ticker, weight in weights.items()}\n",
    "\n",
    "        # Calculate the risk premium of the portfolio\n",
    "        risk_premium_portfolio = (final_weight_market + adjusted_position_portfolio * beta_portfolio) * risk_premium_market + adjusted_position_portfolio * alpha_portfolio\n",
    "\n",
    "        # Compute the variance of the portfolio\n",
    "        portfolio_variance = (final_weight_market + adjusted_position_portfolio * beta_portfolio) ** 2 * residual_variance_market + adjusted_position_portfolio ** 2 * residual_variance_portfolio\n",
    "\n",
    "        # Calculate the Sharpe ratio\n",
    "        sharpe_ratio = risk_premium_portfolio / (portfolio_variance ** 0.5)\n",
    "\n",
    "        return weights, final_weight_market, sharpe_ratio\n"
   ]
  },
  {
   "cell_type": "code",
   "execution_count": 14,
   "id": "9c642ed6",
   "metadata": {},
   "outputs": [
    {
     "name": "stdout",
     "output_type": "stream",
     "text": [
      "------------------------------\n",
      "Final Weights:\n",
      "Weight Market S&P: 0.7155306944244944\n",
      "Weights: {'AAPL': 0.34370695440319166, 'AMZN': -0.08097036566884633, 'BRK-B': 0.7697225837012904, 'GOOGL': -0.033434883335441756, 'META': 0.137473062609587, 'MSFT': 0.22904080570455324, 'NVDA': 0.2338238531865427, 'TSLA': 0.030072303561557254, 'UNH': -1.238867050778585, 'XOM': -0.10609795780834361}\n",
      "------------------------------\n",
      "Sharpe ratio: 0.657245717615602\n"
     ]
    }
   ],
   "source": [
    "# reg_model = MLPRegressor(hidden_layer_sizes=(100,100))\n",
    "portfolio = SingleIndexModel(tickers, market_index_data, portfolio_data, MLPRegressor(hidden_layer_sizes=(100,100)))\n",
    "portfolio.calculate_returns()\n",
    "portfolio.fit_regression()\n",
    "weights, final_weight_market, sharpe_ratio = portfolio.optimize_portfolio()\n",
    "print(\"------------------------------\")\n",
    "print(\"Final Weights:\")\n",
    "print(\"Weight Market S&P:\", final_weight_market)\n",
    "print(f\"Weights: {weights}\")\n",
    "print(\"------------------------------\")\n",
    "print(\"Sharpe ratio:\", sharpe_ratio)"
   ]
  },
  {
   "cell_type": "markdown",
   "id": "8db4f9d8",
   "metadata": {},
   "source": [
    "### Capital asset pricing model (CAPM)"
   ]
  },
  {
   "cell_type": "code",
   "execution_count": null,
   "id": "354fd34f",
   "metadata": {},
   "outputs": [],
   "source": [
    "from pypfopt import expected_returns\n",
    "from pypfopt import plotting\n",
    "import numpy as np\n",
    "import pandas as pd\n",
    "from sklearn.neural_network import MLPRegressor\n",
    "from sklearn.linear_model import Ridge\n",
    "from pypfopt import expected_returns, risk_models, EfficientFrontier\n",
    "\n",
    "# T-bill rate\n",
    "risk_free_rate = 0.01\n",
    "\n",
    "# apple_returns = (\n",
    "#     (apple_data['Close'] / apple_data['Close'].shift(1))-1-risk_free_rate).dropna().tolist()\n",
    "# google_returns = (\n",
    "#     (google_data['Close'] / google_data['Close'].shift(1))-1-risk_free_rate).dropna().tolist()\n",
    "# market_returns = (\n",
    "#     (market_index_data['Close'] / market_index_data['Close'].shift(1))-1-risk_free_rate).dropna().tolist()\n",
    "\n",
    "# Returns of stocks and market\n",
    "returns = {\"MARKET\": ((market_index_data / market_index_data.shift(1)) - 1).dropna().tolist()}\n",
    "for ticker in tickers:\n",
    "    returns[ticker] = ((portfolio_data[ticker] / portfolio_data[ticker].shift(1))-1).dropna().tolist()\n",
    "\n",
    "\n",
    "market_x = [returns[\"MARKET\"][i:i+10] for i in range(len(returns[\"MARKET\"])-20)]\n",
    "market_y = [returns[\"MARKET\"][i+10] for i in range(10, len(returns[\"MARKET\"])-10)]\n",
    "market_test = [returns[\"MARKET\"][i:i+10]\n",
    "              for i in range(len(returns[\"MARKET\"])-20, len(returns[\"MARKET\"])-10)]\n",
    "\n",
    "reg = MLPRegressor(hidden_layer_sizes=(100,100))\n",
    "reg.fit(market_x, market_y)\n",
    "market_future = reg.predict(market_test)\n",
    "\n",
    "# print(market_future)\n",
    "\n",
    "future = {}\n",
    "for ticker in tickers:\n",
    "    \n",
    "    single_index_reg = Ridge()\n",
    "    single_index_reg.fit(np.array(returns[\"MARKET\"]).reshape(-1, 1), y=returns[ticker])\n",
    "    future[ticker] = single_index_reg.predict(np.array(market_future).reshape(-1, 1))\n",
    "\n",
    "# single_index_reg = Ridge()\n",
    "# single_index_reg.fit(np.array(market_returns).reshape(-1, 1), google_returns)\n",
    "# google_future = single_index_reg.predict(\n",
    "#     np.array(market_future).reshape(-1, 1))\n",
    "\n",
    "future_returns = pd.DataFrame(future)\n",
    "# print(future_returns)\n",
    "\n",
    "S = risk_models.sample_cov(future_returns)\n",
    "# S = risk_models.CovarianceShrinkage(future_returns).ledoit_wolf()\n",
    "# plotting.plot_covariance(S, plot_correlation=True)\n",
    "# You don't have to provide expected returns in this case\n",
    "\n",
    "\n",
    "ef = EfficientFrontier(None, S)\n",
    "ef.min_volatility()\n",
    "weights = ef.clean_weights()\n",
    "print(weights)\n",
    "# weights = ef.max_sharpe(risk_free_rate=-0.2)\n",
    "# cleaned_weights = ef.clean_weights()\n",
    "# print(cleaned_weights)\n",
    "# print(mu)\n",
    "\n",
    "ret, volatility, sharpe_ratio = ef.portfolio_performance()\n",
    "print(\"Expected annual return:\", ret)\n",
    "print(\"Annual volatility:\", volatility)\n",
    "print(\"Sharpe ratio:\", sharpe_ratio)"
   ]
  },
  {
   "cell_type": "markdown",
   "id": "a626fe31",
   "metadata": {},
   "source": [
    "### Arbitrage pricing theory and multifactor model"
   ]
  },
  {
   "cell_type": "markdown",
   "id": "95dccb95",
   "metadata": {},
   "source": [
    "### Equity valuation model"
   ]
  },
  {
   "cell_type": "markdown",
   "id": "cea01344",
   "metadata": {},
   "source": [
    "### Black Litterman model "
   ]
  },
  {
   "cell_type": "markdown",
   "id": "4c980fa0",
   "metadata": {},
   "source": [
    "### Algorithmic trading"
   ]
  },
  {
   "cell_type": "code",
   "execution_count": 1,
   "id": "9d9cefa4",
   "metadata": {},
   "outputs": [
    {
     "ename": "ModuleNotFoundError",
     "evalue": "No module named 'talib'",
     "output_type": "error",
     "traceback": [
      "\u001b[0;31m---------------------------------------------------------------------------\u001b[0m",
      "\u001b[0;31mModuleNotFoundError\u001b[0m                       Traceback (most recent call last)",
      "Cell \u001b[0;32mIn [1], line 3\u001b[0m\n\u001b[1;32m      1\u001b[0m \u001b[38;5;28;01mimport\u001b[39;00m \u001b[38;5;21;01mnumpy\u001b[39;00m \u001b[38;5;28;01mas\u001b[39;00m \u001b[38;5;21;01mnp\u001b[39;00m\n\u001b[1;32m      2\u001b[0m \u001b[38;5;28;01mimport\u001b[39;00m \u001b[38;5;21;01mpandas\u001b[39;00m \u001b[38;5;28;01mas\u001b[39;00m \u001b[38;5;21;01mpd\u001b[39;00m\n\u001b[0;32m----> 3\u001b[0m \u001b[38;5;28;01mimport\u001b[39;00m \u001b[38;5;21;01mtalib\u001b[39;00m\n\u001b[1;32m      4\u001b[0m \u001b[38;5;28;01mfrom\u001b[39;00m \u001b[38;5;21;01msklearn\u001b[39;00m\u001b[38;5;21;01m.\u001b[39;00m\u001b[38;5;21;01mensemble\u001b[39;00m \u001b[38;5;28;01mimport\u001b[39;00m RandomForestClassifier\n\u001b[1;32m      7\u001b[0m apple_prices \u001b[38;5;241m=\u001b[39m apple_data[\u001b[38;5;124m'\u001b[39m\u001b[38;5;124mClose\u001b[39m\u001b[38;5;124m'\u001b[39m]\n",
      "\u001b[0;31mModuleNotFoundError\u001b[0m: No module named 'talib'"
     ]
    }
   ],
   "source": [
    "import numpy as np\n",
    "import pandas as pd\n",
    "import talib\n",
    "from sklearn.ensemble import RandomForestClassifier\n",
    "\n",
    "\n",
    "apple_prices = apple_data['Close']\n",
    "\n",
    "# Calculate Bollinger Bands for Apple\n",
    "apple_bb_upper, apple_bb_middle, apple_bb_lower = talib.BBANDS(\n",
    "    apple_prices, timeperiod=20)\n",
    "\n",
    "\n",
    "# Calculate the Bollinger Bands percentages for Apple\n",
    "apple_bb_percentage = (apple_prices - apple_bb_lower) / \\\n",
    "    (apple_bb_upper - apple_bb_lower)\n",
    "\n",
    "# # Combine the Bollinger Bands percentages into a single DataFrame\n",
    "# bb_percentages = pd.concat(\n",
    "#     [apple_bb_percentage, google_bb_percentage], axis=1).dropna()\n",
    "\n",
    "# Define the features and target variable for the machine learning model\n",
    "# Independent variables (Bollinger Bands percentages for the past period)\n",
    "X = apple_bb_percentage.values[:-1]\n",
    "# Target variable (-1 for sell, 1 for buy)\n",
    "y = np.where(apple_prices.values[1:] > apple_bb_upper[:-1], -1, 1)\n",
    "\n",
    "# Train a machine learning model using random forest classifier\n",
    "model = RandomForestClassifier(n_estimators=100)\n",
    "model.fit(X, y)\n",
    "\n",
    "# Use the trained model to predict the trading signals for the testing set\n",
    "# Ideally this will be your real time stock prices\n",
    "y_pred = model.predict(X_test)\n",
    "\n",
    "# Perform algorithmic trading based on the predicted signals (example logic)\n",
    "capital = 100000  # Initial capital in USD\n",
    "position = 0  # Current position (0 for neutral, 1 for long, -1 for short)\n",
    "\n",
    "for i in range(len(y_pred)):\n",
    "    if y_pred[i] == 1 and position != 1:  # Buy signal\n",
    "        position = 1\n",
    "        # Place a buy order based on your trading platform's API or logic\n",
    "\n",
    "    elif y_pred[i] == -1 and position != -1:  # Sell signal\n",
    "        position = -1\n",
    "        # Place a sell order based on your trading platform's API or logic\n",
    "\n",
    "    elif y_pred[i] == 0 and position != 0:  # Exit position\n",
    "        position = 0\n",
    "        # Close the existing position based on your trading platform's API or logic\n",
    "\n",
    "# Calculate the final capital after the trading period\n",
    "final_capital = capital  # Assume no transaction costs or slippage\n",
    "# Calculate the final capital based on your trading platform's API or logic\n",
    "\n",
    "print(\"Final Capital:\", final_capital)\n"
   ]
  },
  {
   "cell_type": "code",
   "execution_count": null,
   "id": "00ffc813",
   "metadata": {},
   "outputs": [],
   "source": []
  }
 ],
 "metadata": {
  "kernelspec": {
   "display_name": "Python 3 (ipykernel)",
   "language": "python",
   "name": "python3"
  },
  "language_info": {
   "codemirror_mode": {
    "name": "ipython",
    "version": 3
   },
   "file_extension": ".py",
   "mimetype": "text/x-python",
   "name": "python",
   "nbconvert_exporter": "python",
   "pygments_lexer": "ipython3",
   "version": "3.10.9"
  }
 },
 "nbformat": 4,
 "nbformat_minor": 5
}
