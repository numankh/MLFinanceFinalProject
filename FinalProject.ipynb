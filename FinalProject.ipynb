{
 "cells": [
  {
   "cell_type": "markdown",
   "id": "1c3d512f",
   "metadata": {},
   "source": [
    "# Final Project"
   ]
  },
  {
   "cell_type": "markdown",
   "id": "5455474e",
   "metadata": {},
   "source": [
    "## Load Data"
   ]
  },
  {
   "cell_type": "code",
   "execution_count": 1,
   "id": "40e998cb",
   "metadata": {},
   "outputs": [
    {
     "name": "stdout",
     "output_type": "stream",
     "text": [
      "[*********************100%***********************]  10 of 10 completed\n"
     ]
    },
    {
     "data": {
      "text/html": [
       "<div>\n",
       "<style scoped>\n",
       "    .dataframe tbody tr th:only-of-type {\n",
       "        vertical-align: middle;\n",
       "    }\n",
       "\n",
       "    .dataframe tbody tr th {\n",
       "        vertical-align: top;\n",
       "    }\n",
       "\n",
       "    .dataframe thead th {\n",
       "        text-align: right;\n",
       "    }\n",
       "</style>\n",
       "<table border=\"1\" class=\"dataframe\">\n",
       "  <thead>\n",
       "    <tr style=\"text-align: right;\">\n",
       "      <th></th>\n",
       "      <th>AAPL</th>\n",
       "      <th>AMZN</th>\n",
       "      <th>BRK-B</th>\n",
       "      <th>GOOGL</th>\n",
       "      <th>META</th>\n",
       "      <th>MSFT</th>\n",
       "      <th>NVDA</th>\n",
       "      <th>TSLA</th>\n",
       "      <th>UNH</th>\n",
       "      <th>XOM</th>\n",
       "    </tr>\n",
       "    <tr>\n",
       "      <th>Date</th>\n",
       "      <th></th>\n",
       "      <th></th>\n",
       "      <th></th>\n",
       "      <th></th>\n",
       "      <th></th>\n",
       "      <th></th>\n",
       "      <th></th>\n",
       "      <th></th>\n",
       "      <th></th>\n",
       "      <th></th>\n",
       "    </tr>\n",
       "  </thead>\n",
       "  <tbody>\n",
       "    <tr>\n",
       "      <th>2023-06-27</th>\n",
       "      <td>188.059998</td>\n",
       "      <td>129.179993</td>\n",
       "      <td>335.339996</td>\n",
       "      <td>118.330002</td>\n",
       "      <td>287.049988</td>\n",
       "      <td>334.570007</td>\n",
       "      <td>418.760010</td>\n",
       "      <td>250.210007</td>\n",
       "      <td>482.559998</td>\n",
       "      <td>104.550003</td>\n",
       "    </tr>\n",
       "    <tr>\n",
       "      <th>2023-06-28</th>\n",
       "      <td>189.250000</td>\n",
       "      <td>129.039993</td>\n",
       "      <td>334.149994</td>\n",
       "      <td>120.180000</td>\n",
       "      <td>285.290009</td>\n",
       "      <td>335.850006</td>\n",
       "      <td>411.170013</td>\n",
       "      <td>256.239990</td>\n",
       "      <td>474.450012</td>\n",
       "      <td>105.400002</td>\n",
       "    </tr>\n",
       "    <tr>\n",
       "      <th>2023-06-29</th>\n",
       "      <td>189.589996</td>\n",
       "      <td>127.900002</td>\n",
       "      <td>336.910004</td>\n",
       "      <td>119.099998</td>\n",
       "      <td>281.529999</td>\n",
       "      <td>335.049988</td>\n",
       "      <td>408.220001</td>\n",
       "      <td>257.500000</td>\n",
       "      <td>476.440002</td>\n",
       "      <td>106.699997</td>\n",
       "    </tr>\n",
       "    <tr>\n",
       "      <th>2023-06-30</th>\n",
       "      <td>193.970001</td>\n",
       "      <td>130.360001</td>\n",
       "      <td>341.000000</td>\n",
       "      <td>119.699997</td>\n",
       "      <td>286.980011</td>\n",
       "      <td>340.540009</td>\n",
       "      <td>423.019989</td>\n",
       "      <td>261.769989</td>\n",
       "      <td>480.640015</td>\n",
       "      <td>107.250000</td>\n",
       "    </tr>\n",
       "    <tr>\n",
       "      <th>2023-07-03</th>\n",
       "      <td>192.460007</td>\n",
       "      <td>130.220001</td>\n",
       "      <td>342.000000</td>\n",
       "      <td>119.900002</td>\n",
       "      <td>286.019989</td>\n",
       "      <td>337.989990</td>\n",
       "      <td>424.130005</td>\n",
       "      <td>279.820007</td>\n",
       "      <td>477.880005</td>\n",
       "      <td>107.459999</td>\n",
       "    </tr>\n",
       "  </tbody>\n",
       "</table>\n",
       "</div>"
      ],
      "text/plain": [
       "                  AAPL        AMZN       BRK-B       GOOGL        META  \\\n",
       "Date                                                                     \n",
       "2023-06-27  188.059998  129.179993  335.339996  118.330002  287.049988   \n",
       "2023-06-28  189.250000  129.039993  334.149994  120.180000  285.290009   \n",
       "2023-06-29  189.589996  127.900002  336.910004  119.099998  281.529999   \n",
       "2023-06-30  193.970001  130.360001  341.000000  119.699997  286.980011   \n",
       "2023-07-03  192.460007  130.220001  342.000000  119.900002  286.019989   \n",
       "\n",
       "                  MSFT        NVDA        TSLA         UNH         XOM  \n",
       "Date                                                                    \n",
       "2023-06-27  334.570007  418.760010  250.210007  482.559998  104.550003  \n",
       "2023-06-28  335.850006  411.170013  256.239990  474.450012  105.400002  \n",
       "2023-06-29  335.049988  408.220001  257.500000  476.440002  106.699997  \n",
       "2023-06-30  340.540009  423.019989  261.769989  480.640015  107.250000  \n",
       "2023-07-03  337.989990  424.130005  279.820007  477.880005  107.459999  "
      ]
     },
     "execution_count": 1,
     "metadata": {},
     "output_type": "execute_result"
    }
   ],
   "source": [
    "import yfinance as yf\n",
    "from pypfopt import plotting, EfficientFrontier, objective_functions, expected_returns\n",
    "import numpy as np\n",
    "import pandas as pd\n",
    "from sklearn.linear_model import LinearRegression\n",
    "from sklearn.neural_network import MLPRegressor\n",
    "from sklearn.ensemble import RandomForestRegressor, GradientBoostingRegressor\n",
    "from sklearn.svm import SVR\n",
    "from sklearn.linear_model import Ridge\n",
    "from sklearn.preprocessing import StandardScaler\n",
    "from pypfopt import BlackLittermanModel, black_litterman, risk_models\n",
    "\n",
    "\n",
    "tickers = [\"AAPL\", \"AMZN\", \"BRK-B\", \"GOOGL\", \"META\", \"MSFT\", \"NVDA\", \"TSLA\", \"UNH\", \"XOM\"]\n",
    "portfolio_data = yf.download(tickers, period=\"5y\")\n",
    "portfolio_data = portfolio_data[\"Adj Close\"]\n",
    "portfolio_data.tail()"
   ]
  },
  {
   "cell_type": "code",
   "execution_count": 2,
   "id": "937b3971",
   "metadata": {},
   "outputs": [
    {
     "name": "stdout",
     "output_type": "stream",
     "text": [
      "[*********************100%***********************]  1 of 1 completed\n"
     ]
    },
    {
     "data": {
      "text/plain": [
       "Date\n",
       "2023-06-27    4378.410156\n",
       "2023-06-28    4376.859863\n",
       "2023-06-29    4396.439941\n",
       "2023-06-30    4450.379883\n",
       "2023-07-03    4455.589844\n",
       "Name: Adj Close, dtype: float64"
      ]
     },
     "execution_count": 2,
     "metadata": {},
     "output_type": "execute_result"
    }
   ],
   "source": [
    "market_index_ticker = \"^GSPC\"  # S&P 500 index\n",
    "market_index_data = yf.download(market_index_ticker, period=\"5y\")\n",
    "market_index_data = market_index_data[\"Adj Close\"]\n",
    "market_index_data.tail()"
   ]
  },
  {
   "cell_type": "code",
   "execution_count": 3,
   "id": "b2cfb6f8",
   "metadata": {},
   "outputs": [],
   "source": [
    "# Utility function to predict stock price for 10 future days using a non-linear regression model\n",
    "def forecast_price(data, reg_model):\n",
    "    dev_x = [data[i:i+10] for i in range(len(data)-20)]\n",
    "    dev_y = [data[i+10] for i in range(10,len(data)-10)]\n",
    "    test = [data[i:i+10] for i in range(len(data)-20,len(data)-10)]\n",
    "    reg_model.fit(dev_x,dev_y)\n",
    "    pred = reg_model.predict(test)\n",
    "    return pred"
   ]
  },
  {
   "cell_type": "markdown",
   "id": "12c777d4",
   "metadata": {},
   "source": [
    "## Mean Variance Optimization"
   ]
  },
  {
   "cell_type": "code",
   "execution_count": 6,
   "id": "213e43dd",
   "metadata": {},
   "outputs": [
    {
     "name": "stdout",
     "output_type": "stream",
     "text": [
      "----------------------------------------------------\n",
      "Non-linear ML model: RandomForestRegressor()\n",
      "\n",
      "Weights: OrderedDict([('AAPL', 0.14121), ('AMZN', 0.01276), ('BRK-B', 0.13102), ('GOOGL', 0.05297), ('META', 0.09742), ('MSFT', 0.13166), ('NVDA', 0.14511), ('TSLA', 0.00114), ('UNH', 0.14663), ('XOM', 0.14009)])\n",
      "Expected annual return: 0.16252859711640055\n",
      "Annual volatility: 0.11086445476460734\n",
      "Sharpe ratio: 1.2856113117502272\n",
      "----------------------------------------------------\n",
      "Non-linear ML model: GradientBoostingRegressor()\n",
      "\n",
      "Weights: OrderedDict([('AAPL', 0.16362), ('AMZN', 0.0), ('BRK-B', 0.15377), ('GOOGL', 0.06711), ('META', 0.11886), ('MSFT', 0.06206), ('NVDA', 0.14458), ('TSLA', 0.0), ('UNH', 0.14815), ('XOM', 0.14185)])\n",
      "Expected annual return: 0.08220777594095553\n",
      "Annual volatility: 0.07760013999205151\n",
      "Sharpe ratio: 0.8016451509923487\n",
      "----------------------------------------------------\n",
      "Non-linear ML model: MLPRegressor(hidden_layer_sizes=(100, 100))\n",
      "\n",
      "Weights: OrderedDict([('AAPL', 0.05259), ('AMZN', 0.16406), ('BRK-B', 0.16292), ('GOOGL', 0.06999), ('META', 0.0781), ('MSFT', 0.0805), ('NVDA', 0.07257), ('TSLA', 0.0), ('UNH', 0.1726), ('XOM', 0.14667)])\n",
      "Expected annual return: -0.051217234660748644\n",
      "Annual volatility: 0.05266203023919729\n",
      "Sharpe ratio: -1.3523450261463785\n",
      "----------------------------------------------------\n",
      "Non-linear ML model: SVR()\n",
      "\n",
      "Weights: OrderedDict([('AAPL', 0.21053), ('AMZN', 0.01913), ('BRK-B', 0.16), ('GOOGL', 0.027), ('META', 0.17512), ('MSFT', 0.10298), ('NVDA', 0.01529), ('TSLA', 0.0442), ('UNH', 0.10212), ('XOM', 0.14363)])\n",
      "Expected annual return: -0.01205139465922169\n",
      "Annual volatility: 0.012313236690685453\n",
      "Sharpe ratio: -2.603003212264041\n"
     ]
    }
   ],
   "source": [
    "reg_models = [RandomForestRegressor(), GradientBoostingRegressor(), MLPRegressor(hidden_layer_sizes=(100, 100)), SVR()]\n",
    "\n",
    "for reg_model in reg_models:\n",
    "    print(\"----------------------------------------------------\")\n",
    "    print(f\"Non-linear ML model: {reg_model}\\n\")\n",
    "    \n",
    "    future_prices = {}\n",
    "    for ticker in tickers:\n",
    "        future_prices[ticker] = forecast_price(portfolio_data[ticker], reg_model)\n",
    "\n",
    "    future_prices = pd.DataFrame(future_prices)\n",
    "    S = risk_models.CovarianceShrinkage(future_prices).ledoit_wolf()\n",
    "\n",
    "    mu = expected_returns.capm_return(future_prices)\n",
    "\n",
    "    ef = EfficientFrontier(mu, S)\n",
    "    ef.min_volatility()\n",
    "    weights = ef.clean_weights()\n",
    "    print(f\"Weights: {weights}\")\n",
    "\n",
    "    ret, volatility, sharpe_ratio = ef.portfolio_performance()\n",
    "    print(\"Expected annual return:\", ret)\n",
    "    print(\"Annual volatility:\", volatility)\n",
    "    print(\"Sharpe ratio:\", sharpe_ratio)"
   ]
  },
  {
   "cell_type": "markdown",
   "id": "69e43441",
   "metadata": {},
   "source": [
    "## Index model"
   ]
  },
  {
   "cell_type": "code",
   "execution_count": 7,
   "id": "9c479c60",
   "metadata": {},
   "outputs": [
    {
     "name": "stdout",
     "output_type": "stream",
     "text": [
      "----------------------------------------------------\n",
      "Non-linear ML model: RandomForestRegressor()\n",
      "\n",
      "Weights: {'AAPL': 0.14438425270067715, 'AMZN': -0.32752200277687143, 'BRK-B': 0.1038629876234869, 'GOOGL': -0.035243504152177384, 'META': 0.007627804936769037, 'MSFT': 0.0993561711047116, 'NVDA': 0.15466681767646137, 'TSLA': 0.05600156224606549, 'UNH': -0.043642640485203596, 'XOM': -0.0771980912473254}\n",
      "Market weight: 0.9177066423734063\n",
      "Sharpe ratio: 0.5787630338610331\n",
      "----------------------------------------------------\n",
      "Non-linear ML model: GradientBoostingRegressor()\n",
      "\n",
      "Weights: {'AAPL': -4.083877714918434, 'AMZN': 2.114837452700824, 'BRK-B': 1.6109341751008734, 'GOOGL': -0.5168286691424531, 'META': 0.42347918802756224, 'MSFT': -2.8200350589900247, 'NVDA': -1.769116695113761, 'TSLA': -0.8082359212335463, 'UNH': 0.019305953392820204, 'XOM': -0.39648351290419226}\n",
      "Market weight: 7.226020803080331\n",
      "Sharpe ratio: -0.5865232880697921\n",
      "----------------------------------------------------\n",
      "Non-linear ML model: MLPRegressor(hidden_layer_sizes=(100, 100))\n",
      "\n",
      "Weights: {'AAPL': -0.010230328462031962, 'AMZN': 0.010776186746313785, 'BRK-B': 0.12039142862867552, 'GOOGL': -0.23453875478981023, 'META': 0.027161890544548865, 'MSFT': -0.3491218932759155, 'NVDA': -0.015284761850375196, 'TSLA': -0.15052437074525735, 'UNH': 0.05294181768024566, 'XOM': 0.06723373228739651}\n",
      "Market weight: 1.4811950532362097\n",
      "Sharpe ratio: 0.7074787103111315\n",
      "----------------------------------------------------\n",
      "Non-linear ML model: SVR()\n",
      "\n",
      "Weights: {'AAPL': -0.12280386767993026, 'AMZN': -0.04617780923647842, 'BRK-B': -0.13289454334014542, 'GOOGL': -0.036949359281328954, 'META': -0.20716734696946038, 'MSFT': -0.09825786636062496, 'NVDA': 0.007111839905231202, 'TSLA': -0.061087718202220684, 'UNH': 0.04178727598210327, 'XOM': 0.024591902199059042}\n",
      "Market weight: 1.6318474929837956\n",
      "Sharpe ratio: -2.6874738317089766\n"
     ]
    }
   ],
   "source": [
    "reg_models = [RandomForestRegressor(), GradientBoostingRegressor(), MLPRegressor(hidden_layer_sizes=(100, 100)), SVR()]\n",
    "\n",
    "for reg_model in reg_models:\n",
    "    print(\"----------------------------------------------------\")\n",
    "    print(f\"Non-linear ML model: {reg_model}\\n\")\n",
    "\n",
    "    returns = {\"MARKET\": ((market_index_data / market_index_data.shift(1)) - 1).dropna().tolist()}\n",
    "    for ticker in tickers:\n",
    "        returns[ticker] = ((portfolio_data[ticker] / portfolio_data[ticker].shift(1))-1).dropna().tolist()\n",
    "    market_future = forecast_price(returns[\"MARKET\"], reg_model)\n",
    "\n",
    "\n",
    "    beta = {}\n",
    "    alpha = {}\n",
    "    residual_variance = {}\n",
    "    for ticker in tickers:\n",
    "        stock_future = forecast_price(returns[ticker], reg_model)\n",
    "\n",
    "        single_index_reg = LinearRegression()\n",
    "        single_index_reg.fit(np.array(market_future).reshape(-1, 1), y=stock_future)\n",
    "\n",
    "        beta[ticker] = single_index_reg.coef_[0]\n",
    "        alpha[ticker] = single_index_reg.intercept_\n",
    "\n",
    "        y_pred = single_index_reg.predict(np.array(returns[\"MARKET\"]).reshape(-1, 1))\n",
    "        residuals = returns[ticker] - y_pred\n",
    "        residual_variance[ticker] = np.var(residuals)\n",
    "\n",
    "\n",
    "    # Compute the initial position of each security\n",
    "    weights = {ticker: alpha[ticker] / residual_variance[ticker] for ticker in tickers}\n",
    "    total_weight = sum(weights.values())\n",
    "    weights = {ticker: weight / total_weight for ticker, weight in weights.items()}\n",
    "\n",
    "    # Compute the alpha of the active portfolio\n",
    "    alpha_portfolio = sum(weights[ticker] * alpha[ticker] for ticker in tickers)\n",
    "\n",
    "    # Compute the residual variance of the active portfolio\n",
    "    residual_variance_portfolio = sum((weights[ticker] ** 2) * residual_variance[ticker] for ticker in tickers)\n",
    "\n",
    "    # Compute the initial position in the active portfolio\n",
    "    residual_variance_market = 0.0114  # Variance of S&P 500\n",
    "    risk_premium_market = 0.056\n",
    "    initial_position_portfolio = (alpha_portfolio * residual_variance_market) / (residual_variance_portfolio * risk_premium_market)\n",
    "\n",
    "    # Compute the beta of the active portfolio\n",
    "    beta_portfolio = sum(weights[ticker] * beta[ticker] for ticker in tickers)\n",
    "\n",
    "    # Adjust the initial position in the active portfolio\n",
    "    adjusted_position_portfolio = initial_position_portfolio / (1 + (1 - beta_portfolio) * initial_position_portfolio)\n",
    "\n",
    "    # Optimal risky portfolio now has weights\n",
    "    final_weight_market = 1 - adjusted_position_portfolio\n",
    "    weights = {ticker: weight * adjusted_position_portfolio for ticker, weight in weights.items()}\n",
    "\n",
    "    # Calculate the risk premium of the portfolio\n",
    "    risk_premium_portfolio = (final_weight_market + adjusted_position_portfolio * beta_portfolio) * risk_premium_market + adjusted_position_portfolio * alpha_portfolio\n",
    "\n",
    "    # Compute the variance of the portfolio\n",
    "    portfolio_variance = (final_weight_market + adjusted_position_portfolio * beta_portfolio) ** 2 * residual_variance_market + adjusted_position_portfolio ** 2 * residual_variance_portfolio\n",
    "\n",
    "    # Calculate the Sharpe ratio\n",
    "    sharpe_ratio = risk_premium_portfolio / (portfolio_variance ** 0.5)\n",
    "\n",
    "    print(f\"Weights: {weights}\")\n",
    "    print(f\"Market weight: {final_weight_market}\")\n",
    "    print(f\"Sharpe ratio: {sharpe_ratio}\")"
   ]
  },
  {
   "cell_type": "markdown",
   "id": "8db4f9d8",
   "metadata": {},
   "source": [
    "## Capital asset pricing model (CAPM)"
   ]
  },
  {
   "cell_type": "code",
   "execution_count": 9,
   "id": "37b915a1",
   "metadata": {},
   "outputs": [
    {
     "name": "stdout",
     "output_type": "stream",
     "text": [
      "----------------------------------------------------\n",
      "Non-linear ML model: RandomForestRegressor()\n",
      "OrderedDict([('AAPL', 0.18002), ('AMZN', 0.0), ('BRK-B', 0.0), ('GOOGL', 0.0), ('META', 0.0), ('MSFT', 0.08681), ('NVDA', 0.23845), ('TSLA', 0.49472), ('UNH', 0.0), ('XOM', 0.0)])\n",
      "Expected annual return: None\n",
      "Annual volatility: 4.107900387646437\n",
      "Sharpe ratio: None\n",
      "----------------------------------------------------\n",
      "Non-linear ML model: GradientBoostingRegressor()\n",
      "OrderedDict([('AAPL', 0.17803), ('AMZN', 0.0), ('BRK-B', 0.0), ('GOOGL', 0.0), ('META', 0.0), ('MSFT', 0.07145), ('NVDA', 0.2427), ('TSLA', 0.50781), ('UNH', 0.0), ('XOM', 0.0)])\n",
      "Expected annual return: None\n",
      "Annual volatility: 4.730631393553236\n",
      "Sharpe ratio: None\n",
      "----------------------------------------------------\n",
      "Non-linear ML model: MLPRegressor(hidden_layer_sizes=(100, 100))\n",
      "OrderedDict([('AAPL', 0.14355), ('AMZN', 0.0), ('BRK-B', 0.0), ('GOOGL', 0.0), ('META', 0.0), ('MSFT', 0.02915), ('NVDA', 0.22035), ('TSLA', 0.60695), ('UNH', 0.0), ('XOM', 0.0)])\n",
      "Expected annual return: None\n",
      "Annual volatility: 2.140131329362205\n",
      "Sharpe ratio: None\n",
      "----------------------------------------------------\n",
      "Non-linear ML model: SVR()\n",
      "OrderedDict([('AAPL', 0.0), ('AMZN', 0.2659), ('BRK-B', 0.16302), ('GOOGL', 0.15316), ('META', 0.26345), ('MSFT', 0.0), ('NVDA', 0.0), ('TSLA', 0.0), ('UNH', 0.0234), ('XOM', 0.13107)])\n",
      "Expected annual return: None\n",
      "Annual volatility: 1.1490806112649938\n",
      "Sharpe ratio: None\n"
     ]
    }
   ],
   "source": [
    "reg_models = [RandomForestRegressor(), GradientBoostingRegressor(), MLPRegressor(hidden_layer_sizes=(100, 100)), SVR()]\n",
    "\n",
    "for reg_model in reg_models:\n",
    "    print(\"----------------------------------------------------\")\n",
    "    print(f\"Non-linear ML model: {reg_model}\")\n",
    "    \n",
    "    returns = {\"MARKET\": ((market_index_data / market_index_data.shift(1)) - 1).dropna().tolist()}\n",
    "    for ticker in tickers:\n",
    "        returns[ticker] = ((portfolio_data[ticker] / portfolio_data[ticker].shift(1))-1).dropna().tolist()\n",
    "    market_future = forecast_price(returns[\"MARKET\"], reg_model)\n",
    "\n",
    "    future_returns = {}\n",
    "    for ticker in tickers:\n",
    "        single_index_reg = Ridge()\n",
    "        single_index_reg.fit(np.array(returns[\"MARKET\"]).reshape(-1, 1), y=returns[ticker])\n",
    "        future_returns[ticker] = single_index_reg.predict(np.array(market_future).reshape(-1, 1))\n",
    "\n",
    "    future_returns = pd.DataFrame(future_returns)\n",
    "\n",
    "    S = risk_models.CovarianceShrinkage(future_returns).ledoit_wolf()\n",
    "    ef = EfficientFrontier(None, S)\n",
    "    ef.min_volatility()\n",
    "    weights = ef.clean_weights()\n",
    "    print(weights)\n",
    "\n",
    "    ret, volatility, sharpe_ratio = ef.portfolio_performance()\n",
    "    print(\"Expected annual return:\", ret)\n",
    "    print(\"Annual volatility:\", volatility)\n",
    "    print(\"Sharpe ratio:\", sharpe_ratio)"
   ]
  },
  {
   "cell_type": "markdown",
   "id": "a626fe31",
   "metadata": {},
   "source": [
    "## Arbitrage pricing theory and multifactor model"
   ]
  },
  {
   "cell_type": "code",
   "execution_count": 31,
   "id": "4265d0ed",
   "metadata": {},
   "outputs": [
    {
     "name": "stdout",
     "output_type": "stream",
     "text": [
      "----------------------------------------------------\n",
      "Non-linear ML model: RandomForestRegressor()\n",
      "[*********************100%***********************]  3 of 3 completed\n"
     ]
    },
    {
     "name": "stderr",
     "output_type": "stream",
     "text": [
      "/opt/homebrew/lib/python3.10/site-packages/pypfopt/risk_models.py:70: UserWarning: The covariance matrix is non positive semidefinite. Amending eigenvalues.\n",
      "  warnings.warn(\n",
      "/opt/homebrew/lib/python3.10/site-packages/pypfopt/efficient_frontier/efficient_frontier.py:441: UserWarning: The risk_free_rate provided to portfolio_performance is different to the one used by max_sharpe. Using the previous value.\n",
      "  warnings.warn(\n"
     ]
    },
    {
     "name": "stdout",
     "output_type": "stream",
     "text": [
      "OrderedDict([('AAPL', 0.0), ('AMZN', 0.00232), ('BRK-B', 0.0), ('GOOGL', 0.0), ('META', 0.0), ('MSFT', 0.0), ('NVDA', 0.78935), ('TSLA', 0.20833), ('UNH', 0.0), ('XOM', 0.0)])\n",
      "Expected annual return: 0.0018754959302084834\n",
      "Annual volatility: 1.649533452626864\n",
      "Sharpe ratio: 0.0011369856896335001\n",
      "----------------------------------------------------\n",
      "Non-linear ML model: GradientBoostingRegressor()\n",
      "[*********************100%***********************]  3 of 3 completed\n"
     ]
    },
    {
     "name": "stderr",
     "output_type": "stream",
     "text": [
      "/opt/homebrew/lib/python3.10/site-packages/pypfopt/risk_models.py:70: UserWarning: The covariance matrix is non positive semidefinite. Amending eigenvalues.\n",
      "  warnings.warn(\n",
      "/opt/homebrew/lib/python3.10/site-packages/pypfopt/risk_models.py:89: UserWarning: Could not fix matrix. Please try a different risk model.\n",
      "  warnings.warn(\n",
      "/opt/homebrew/lib/python3.10/site-packages/pypfopt/efficient_frontier/efficient_frontier.py:441: UserWarning: The risk_free_rate provided to portfolio_performance is different to the one used by max_sharpe. Using the previous value.\n",
      "  warnings.warn(\n"
     ]
    },
    {
     "name": "stdout",
     "output_type": "stream",
     "text": [
      "OrderedDict([('AAPL', 0.0), ('AMZN', 0.00609), ('BRK-B', 0.0), ('GOOGL', 0.0), ('META', 0.0), ('MSFT', 0.0), ('NVDA', 0.5438), ('TSLA', 0.28782), ('UNH', 0.00093), ('XOM', 0.16136)])\n",
      "Expected annual return: 0.001515657627297046\n",
      "Annual volatility: 0.20376655845670819\n",
      "Sharpe ratio: 0.007438205948887631\n",
      "----------------------------------------------------\n",
      "Non-linear ML model: MLPRegressor(hidden_layer_sizes=(100, 100))\n",
      "[*********************100%***********************]  3 of 3 completed\n",
      "OrderedDict([('AAPL', 0.0), ('AMZN', 0.0), ('BRK-B', 0.0), ('GOOGL', 0.0), ('META', 0.0), ('MSFT', 0.0), ('NVDA', 0.3113), ('TSLA', 0.32039), ('UNH', 0.00291), ('XOM', 0.3654)])\n",
      "Expected annual return: 0.0012702323830164623\n",
      "Annual volatility: 0.27361679632411007\n",
      "Sharpe ratio: 0.004642377222748494\n",
      "----------------------------------------------------\n",
      "Non-linear ML model: SVR()\n"
     ]
    },
    {
     "name": "stderr",
     "output_type": "stream",
     "text": [
      "/opt/homebrew/lib/python3.10/site-packages/pypfopt/efficient_frontier/efficient_frontier.py:441: UserWarning: The risk_free_rate provided to portfolio_performance is different to the one used by max_sharpe. Using the previous value.\n",
      "  warnings.warn(\n"
     ]
    },
    {
     "name": "stdout",
     "output_type": "stream",
     "text": [
      "[*********************100%***********************]  3 of 3 completed\n",
      "OrderedDict([('AAPL', 0.0), ('AMZN', 0.0), ('BRK-B', 0.0), ('GOOGL', 0.0), ('META', 0.0), ('MSFT', 0.0), ('NVDA', 0.69851), ('TSLA', 0.27492), ('UNH', 0.0), ('XOM', 0.02658)])\n",
      "Expected annual return: 0.0014966892173548416\n",
      "Annual volatility: 0.5992097011586065\n",
      "Sharpe ratio: 0.0024977720061289174\n"
     ]
    },
    {
     "name": "stderr",
     "output_type": "stream",
     "text": [
      "/opt/homebrew/lib/python3.10/site-packages/pypfopt/risk_models.py:70: UserWarning: The covariance matrix is non positive semidefinite. Amending eigenvalues.\n",
      "  warnings.warn(\n",
      "/opt/homebrew/lib/python3.10/site-packages/pypfopt/efficient_frontier/efficient_frontier.py:441: UserWarning: The risk_free_rate provided to portfolio_performance is different to the one used by max_sharpe. Using the previous value.\n",
      "  warnings.warn(\n"
     ]
    }
   ],
   "source": [
    "reg_models = [RandomForestRegressor(), GradientBoostingRegressor(), MLPRegressor(hidden_layer_sizes=(100, 100)), SVR()]\n",
    "\n",
    "for reg in reg_models:\n",
    "    print(\"----------------------------------------------------\")\n",
    "    print(f\"Non-linear ML model: {reg}\")\n",
    "    \n",
    "    # Fetch historical data for the macroeconomic factors\n",
    "    factor_tickers = ['SPY', 'TLT', 'BND']\n",
    "    factor_data = yf.download(factor_tickers, period=\"5y\")\n",
    "    factor_data = factor_data['Adj Close']\n",
    "\n",
    "    # Calculate the returns for the S&P and Treasury bond factors\n",
    "    factor_returns = factor_data.pct_change().dropna()\n",
    "    spy_returns = factor_returns['SPY']\n",
    "    tlt_returns = factor_returns['TLT']\n",
    "    bnd_returns = factor_returns['BND']\n",
    "\n",
    "    # FACTOR 1\n",
    "    bnd_future = forecast_price(bnd_returns, reg_model)\n",
    "\n",
    "    # FACTOR 2\n",
    "    spy_future = forecast_price(spy_returns, reg_model)\n",
    "\n",
    "    # FACTOR 3\n",
    "    tlt_future = forecast_price(tlt_returns, reg_model)\n",
    "\n",
    "    # FACTOR 4\n",
    "    # GDP Price of USA for past 5 years\n",
    "\n",
    "    # US GDP per capita Prices of last 5 years\n",
    "    GDP_prices = {\n",
    "        2018: 59607,\n",
    "        2019: 60698,\n",
    "        2020: 58453,\n",
    "        2021: 61855,\n",
    "        2022: 62551,\n",
    "        2023: 63451 # Forecast data also available online\n",
    "    }\n",
    "\n",
    "    # Normalize the GDP values as it will make the other factors irrelevant as it is very large\n",
    "    values = list(GDP_prices.values())\n",
    "    values_array = [[value] for value in values]\n",
    "    scaler = StandardScaler()\n",
    "    scaled_values = scaler.fit_transform(values_array)\n",
    "    scaled_values = scaled_values.flatten()\n",
    "    scaled_GDP_prices = {year: scaled_value for year, scaled_value in zip(GDP_prices.keys(), scaled_values)}\n",
    "\n",
    "    # print(scaled_GDP_prices)\n",
    "\n",
    "    for index, row in factor_returns.iterrows():\n",
    "        # Extract the year from the date\n",
    "        year = index.year\n",
    "\n",
    "        # Fill the 'GDP' column with the corresponding GDP price based on the year\n",
    "        factor_returns.at[index, 'GDP'] = scaled_GDP_prices.get(year)\n",
    "\n",
    "    future_factors = {'BND': bnd_future, 'SPY': spy_future, 'TLT': tlt_future, 'GDP': [scaled_GDP_prices.get(2023)]*10}\n",
    "    future_factors = pd.DataFrame(future_factors)\n",
    "\n",
    "    returns = {}\n",
    "    future_returns = {}\n",
    "    for ticker in tickers:\n",
    "        stock_returns = ((portfolio_data[ticker] / portfolio_data[ticker].shift(1))-1).dropna().tolist()\n",
    "        returns[ticker] = stock_returns\n",
    "\n",
    "        single_index_reg = Ridge()\n",
    "        single_index_reg.fit(factor_returns, stock_returns)\n",
    "        stock_future = single_index_reg.predict(future_factors)\n",
    "        future_returns[ticker] = stock_future\n",
    "\n",
    "    future_returns = pd.DataFrame(future_returns)\n",
    "    S = risk_models.sample_cov(future_returns)\n",
    "\n",
    "    ef = EfficientFrontier(future_returns.mean(), S)\n",
    "    weights = ef.max_sharpe(risk_free_rate=0.0)\n",
    "    cleaned_weights = ef.clean_weights()\n",
    "    print(cleaned_weights)\n",
    "\n",
    "    ret, volatility, sharpe_ratio = ef.portfolio_performance()\n",
    "    print(\"Expected annual return:\", ret)\n",
    "    print(\"Annual volatility:\", volatility)\n",
    "    print(\"Sharpe ratio:\", sharpe_ratio)\n",
    "\n"
   ]
  },
  {
   "cell_type": "markdown",
   "id": "cea01344",
   "metadata": {},
   "source": [
    "## Black Litterman model "
   ]
  },
  {
   "cell_type": "code",
   "execution_count": 33,
   "id": "3d86d1e2",
   "metadata": {},
   "outputs": [
    {
     "name": "stdout",
     "output_type": "stream",
     "text": [
      "----------------------------------------------------\n",
      "Non-linear regression model: RandomForestRegressor()\n",
      "Views: {'AAPL': 0.00633224662269967, 'AMZN': -0.0020286676439700935, 'BRK-B': -0.0011465237435448062, 'GOOGL': 0.000256539851857428, 'META': 0.007198624117980157, 'MSFT': -0.0014579840243541197, 'NVDA': 0.008122177306659671, 'TSLA': -0.001968889107699775, 'UNH': 0.0038141989391047093, 'XOM': 0.0005860386162657871}\n",
      "[*********************100%***********************]  1 of 1 completed\n",
      "OrderedDict([('AAPL', 0.0), ('AMZN', 0.0205), ('BRK-B', 0.0), ('GOOGL', 0.01428), ('META', 0.07971), ('MSFT', 0.0), ('NVDA', 0.34011), ('TSLA', 0.54541), ('UNH', 0.0), ('XOM', 0.0)])\n",
      "Expected annual return: 0.05849282854082451\n",
      "Annual volatility: 0.5048045221698616\n",
      "Sharpe ratio: 0.07625293920776735\n",
      "----------------------------------------------------\n",
      "Non-linear regression model: GradientBoostingRegressor()\n"
     ]
    },
    {
     "name": "stderr",
     "output_type": "stream",
     "text": [
      "/opt/homebrew/lib/python3.10/site-packages/pypfopt/efficient_frontier/efficient_frontier.py:259: UserWarning: max_sharpe transforms the optimization problem so additional objectives may not work as expected.\n",
      "  warnings.warn(\n"
     ]
    },
    {
     "name": "stdout",
     "output_type": "stream",
     "text": [
      "Views: {'AAPL': 0.0033177345948418903, 'AMZN': 0.001877977546475723, 'BRK-B': -0.0012471009025219752, 'GOOGL': -0.003588571422636571, 'META': 0.004890396967907461, 'MSFT': 8.770881370671771e-05, 'NVDA': 0.00784314760799787, 'TSLA': -0.0018200927555136908, 'UNH': 0.0036170402296405017, 'XOM': -0.00018106866807791075}\n",
      "[*********************100%***********************]  1 of 1 completed\n",
      "OrderedDict([('AAPL', 0.0), ('AMZN', 0.04166), ('BRK-B', 0.0), ('GOOGL', 0.0), ('META', 0.06498), ('MSFT', 0.0), ('NVDA', 0.34187), ('TSLA', 0.55149), ('UNH', 0.0), ('XOM', 0.0)])\n",
      "Expected annual return: 0.05831677329287283\n",
      "Annual volatility: 0.5078426463537362\n",
      "Sharpe ratio: 0.07545008984177239\n",
      "----------------------------------------------------\n",
      "Non-linear regression model: MLPRegressor(hidden_layer_sizes=(100, 100))\n"
     ]
    },
    {
     "name": "stderr",
     "output_type": "stream",
     "text": [
      "/opt/homebrew/lib/python3.10/site-packages/pypfopt/efficient_frontier/efficient_frontier.py:259: UserWarning: max_sharpe transforms the optimization problem so additional objectives may not work as expected.\n",
      "  warnings.warn(\n"
     ]
    },
    {
     "name": "stdout",
     "output_type": "stream",
     "text": [
      "Views: {'AAPL': 0.004764763753117185, 'AMZN': -0.0021840117994252825, 'BRK-B': 0.0019713125809131815, 'GOOGL': -0.004418225733805237, 'META': 0.003923753288772314, 'MSFT': 0.003178079507192476, 'NVDA': 0.007059021559350037, 'TSLA': -0.005193922620450431, 'UNH': 0.0007379974605477187, 'XOM': 0.00039021809794351214}\n",
      "[*********************100%***********************]  1 of 1 completed\n",
      "OrderedDict([('AAPL', 0.0), ('AMZN', 0.02223), ('BRK-B', 0.0), ('GOOGL', 0.00397), ('META', 0.06404), ('MSFT', 0.00199), ('NVDA', 0.35557), ('TSLA', 0.5522), ('UNH', 0.0), ('XOM', 0.0)])\n",
      "Expected annual return: 0.058559773935090396\n",
      "Annual volatility: 0.510623567980717\n",
      "Sharpe ratio: 0.07551506893341546\n",
      "----------------------------------------------------\n",
      "Non-linear regression model: SVR()\n",
      "Views: {'AAPL': -0.0001216460004583881, 'AMZN': 0.015986107034804065, 'BRK-B': 0.007365359484975839, 'GOOGL': -0.009469696458593852, 'META': 0.04811327248725136, 'MSFT': -0.005199401065915109, 'NVDA': 0.03650822726875128, 'TSLA': 0.023443626217182018, 'UNH': -0.0038791140154419866, 'XOM': -0.0074140141788874535}\n"
     ]
    },
    {
     "name": "stderr",
     "output_type": "stream",
     "text": [
      "/opt/homebrew/lib/python3.10/site-packages/pypfopt/efficient_frontier/efficient_frontier.py:259: UserWarning: max_sharpe transforms the optimization problem so additional objectives may not work as expected.\n",
      "  warnings.warn(\n"
     ]
    },
    {
     "name": "stdout",
     "output_type": "stream",
     "text": [
      "[*********************100%***********************]  1 of 1 completed\n",
      "OrderedDict([('AAPL', 0.0), ('AMZN', 0.08848), ('BRK-B', 0.0), ('GOOGL', 0.0), ('META', 0.20313), ('MSFT', 0.0), ('NVDA', 0.28268), ('TSLA', 0.42571), ('UNH', 0.0), ('XOM', 0.0)])\n",
      "Expected annual return: 0.06204397647048717\n",
      "Annual volatility: 0.45226726676500467\n",
      "Sharpe ratio: 0.09296267839859604\n"
     ]
    },
    {
     "name": "stderr",
     "output_type": "stream",
     "text": [
      "/opt/homebrew/lib/python3.10/site-packages/pypfopt/efficient_frontier/efficient_frontier.py:259: UserWarning: max_sharpe transforms the optimization problem so additional objectives may not work as expected.\n",
      "  warnings.warn(\n"
     ]
    }
   ],
   "source": [
    "reg_models = [RandomForestRegressor(), GradientBoostingRegressor(), MLPRegressor(hidden_layer_sizes=(100, 100)), SVR()]\n",
    "\n",
    "for reg_model in reg_models:\n",
    "    print(\"----------------------------------------------------\")\n",
    "    print(f\"Non-linear regression model: {reg_model}\")\n",
    "    \n",
    "    # Using a non-linear ML model to predict stock prices in future\n",
    "    returns = {}\n",
    "    future_returns = {}\n",
    "    for ticker in tickers:\n",
    "        stock_returns = ((portfolio_data[ticker] / portfolio_data[ticker].shift(1))-1).dropna().tolist()\n",
    "        returns[ticker] = stock_returns\n",
    "        future_returns[ticker] = forecast_price(stock_returns, reg_model) \n",
    "\n",
    "    # Using the predicted future return of stocks as \"views\" for black litterman model\n",
    "    viewdict = {key: value[-1] for key, value in future_returns.items()}\n",
    "    print(f\"Views: {viewdict}\")\n",
    "\n",
    "    # Obtain market caps for all stocks in portfolio\n",
    "    mcaps = {}\n",
    "    for t in tickers:\n",
    "        stock = yf.Ticker(t)\n",
    "        mcaps[t] = stock.info[\"marketCap\"]\n",
    "\n",
    "    # Determine prior estimate of returns implied by the market weights\n",
    "    S = risk_models.CovarianceShrinkage(portfolio_data).ledoit_wolf()\n",
    "    market_prices = yf.download(\"SPY\", period=\"max\")[\"Adj Close\"]\n",
    "    delta = black_litterman.market_implied_risk_aversion(market_prices)\n",
    "    market_prior = black_litterman.market_implied_prior_returns(mcaps, delta, S)\n",
    "\n",
    "    # Assign confidence measure for stock returns based on some heuristics\n",
    "    confidences = [\n",
    "        0.8,\n",
    "        0.6,\n",
    "        0.7,\n",
    "        0.5,\n",
    "        0.5,\n",
    "        0.7,\n",
    "        0.3,\n",
    "        0.3,\n",
    "        0.4,\n",
    "        0.7\n",
    "    ]\n",
    "\n",
    "    # Fit the Black litterman model and calculate corresponding cov matrix and returns\n",
    "    bl = BlackLittermanModel(S, pi=market_prior, absolute_views=viewdict, omega=\"idzorek\", view_confidences=confidences)\n",
    "    ret_bl = bl.bl_returns()\n",
    "    S_bl = bl.bl_cov()\n",
    "\n",
    "    # Find the optimal weights using bl cov matrix and returns\n",
    "    ef = EfficientFrontier(ret_bl, S_bl)\n",
    "    ef.add_objective(objective_functions.L2_reg)\n",
    "    ef.max_sharpe()\n",
    "    weights = ef.clean_weights()\n",
    "    print(weights)\n",
    "\n",
    "    ret, volatility, sharpe_ratio = ef.portfolio_performance()\n",
    "    print(\"Expected annual return:\", ret)\n",
    "    print(\"Annual volatility:\", volatility)\n",
    "    print(\"Sharpe ratio:\", sharpe_ratio)"
   ]
  },
  {
   "cell_type": "code",
   "execution_count": null,
   "id": "57d2853f",
   "metadata": {},
   "outputs": [],
   "source": []
  }
 ],
 "metadata": {
  "kernelspec": {
   "display_name": "Python 3 (ipykernel)",
   "language": "python",
   "name": "python3"
  },
  "language_info": {
   "codemirror_mode": {
    "name": "ipython",
    "version": 3
   },
   "file_extension": ".py",
   "mimetype": "text/x-python",
   "name": "python",
   "nbconvert_exporter": "python",
   "pygments_lexer": "ipython3",
   "version": "3.10.9"
  }
 },
 "nbformat": 4,
 "nbformat_minor": 5
}
